{
 "cells": [
  {
   "cell_type": "code",
   "execution_count": 1,
   "id": "1a6b5867",
   "metadata": {
    "_cell_guid": "b1076dfc-b9ad-4769-8c92-a6c4dae69d19",
    "_uuid": "8f2839f25d086af736a60e9eeb907d3b93b6e0e5",
    "execution": {
     "iopub.execute_input": "2024-12-26T19:42:44.459530Z",
     "iopub.status.busy": "2024-12-26T19:42:44.459149Z",
     "iopub.status.idle": "2024-12-26T19:42:44.827826Z",
     "shell.execute_reply": "2024-12-26T19:42:44.826476Z"
    },
    "papermill": {
     "duration": 0.379064,
     "end_time": "2024-12-26T19:42:44.829600",
     "exception": false,
     "start_time": "2024-12-26T19:42:44.450536",
     "status": "completed"
    },
    "tags": []
   },
   "outputs": [
    {
     "name": "stdout",
     "output_type": "stream",
     "text": [
      "/kaggle/input/sms-spam-collection-dataset/spam.csv\n"
     ]
    }
   ],
   "source": [
    "# This Python 3 environment comes with many helpful analytics libraries installed\n",
    "# It is defined by the kaggle/python Docker image: https://github.com/kaggle/docker-python\n",
    "# For example, here's several helpful packages to load\n",
    "\n",
    "import numpy as np # linear algebra\n",
    "import pandas as pd # data processing, CSV file I/O (e.g. pd.read_csv)\n",
    "\n",
    "# Input data files are available in the read-only \"../input/\" directory\n",
    "# For example, running this (by clicking run or pressing Shift+Enter) will list all files under the input directory\n",
    "\n",
    "import os\n",
    "for dirname, _, filenames in os.walk('/kaggle/input'):\n",
    "    for filename in filenames:\n",
    "        print(os.path.join(dirname, filename))\n",
    "\n",
    "# You can write up to 20GB to the current directory (/kaggle/working/) that gets preserved as output when you create a version using \"Save & Run All\" \n",
    "# You can also write temporary files to /kaggle/temp/, but they won't be saved outside of the current session"
   ]
  },
  {
   "cell_type": "code",
   "execution_count": 2,
   "id": "accb57c5",
   "metadata": {
    "execution": {
     "iopub.execute_input": "2024-12-26T19:42:44.843481Z",
     "iopub.status.busy": "2024-12-26T19:42:44.842998Z",
     "iopub.status.idle": "2024-12-26T19:42:46.325173Z",
     "shell.execute_reply": "2024-12-26T19:42:46.324125Z"
    },
    "papermill": {
     "duration": 1.491192,
     "end_time": "2024-12-26T19:42:46.327248",
     "exception": false,
     "start_time": "2024-12-26T19:42:44.836056",
     "status": "completed"
    },
    "tags": []
   },
   "outputs": [],
   "source": [
    "import pandas as pd\n",
    "import numpy as np\n",
    "import matplotlib.pyplot as plt\n",
    "import seaborn as sns\n",
    "\n",
    "%matplotlib inline\n",
    "sns.set_style(\"whitegrid\")\n",
    "plt.style.use(\"fivethirtyeight\")"
   ]
  },
  {
   "cell_type": "code",
   "execution_count": 3,
   "id": "bb3d213a",
   "metadata": {
    "execution": {
     "iopub.execute_input": "2024-12-26T19:42:46.341144Z",
     "iopub.status.busy": "2024-12-26T19:42:46.340692Z",
     "iopub.status.idle": "2024-12-26T19:42:46.344840Z",
     "shell.execute_reply": "2024-12-26T19:42:46.343991Z"
    },
    "papermill": {
     "duration": 0.01262,
     "end_time": "2024-12-26T19:42:46.346349",
     "exception": false,
     "start_time": "2024-12-26T19:42:46.333729",
     "status": "completed"
    },
    "tags": []
   },
   "outputs": [],
   "source": [
    "simple_train = ['call you tonight', 'Call me a cab', 'Please call me... PLEASE!']"
   ]
  },
  {
   "cell_type": "code",
   "execution_count": 4,
   "id": "c17a01f0",
   "metadata": {
    "execution": {
     "iopub.execute_input": "2024-12-26T19:42:46.360164Z",
     "iopub.status.busy": "2024-12-26T19:42:46.359809Z",
     "iopub.status.idle": "2024-12-26T19:42:46.536298Z",
     "shell.execute_reply": "2024-12-26T19:42:46.535273Z"
    },
    "papermill": {
     "duration": 0.185087,
     "end_time": "2024-12-26T19:42:46.537826",
     "exception": false,
     "start_time": "2024-12-26T19:42:46.352739",
     "status": "completed"
    },
    "tags": []
   },
   "outputs": [
    {
     "data": {
      "text/plain": [
       "array(['cab', 'call', 'me', 'please', 'tonight', 'you'], dtype=object)"
      ]
     },
     "execution_count": 4,
     "metadata": {},
     "output_type": "execute_result"
    }
   ],
   "source": [
    "from sklearn.feature_extraction.text import CountVectorizer\n",
    "\n",
    "vect = CountVectorizer()\n",
    "vect.fit(simple_train)\n",
    "vect.get_feature_names_out()"
   ]
  },
  {
   "cell_type": "code",
   "execution_count": 5,
   "id": "f214f208",
   "metadata": {
    "execution": {
     "iopub.execute_input": "2024-12-26T19:42:46.551595Z",
     "iopub.status.busy": "2024-12-26T19:42:46.551280Z",
     "iopub.status.idle": "2024-12-26T19:42:46.556999Z",
     "shell.execute_reply": "2024-12-26T19:42:46.556147Z"
    },
    "papermill": {
     "duration": 0.014336,
     "end_time": "2024-12-26T19:42:46.558526",
     "exception": false,
     "start_time": "2024-12-26T19:42:46.544190",
     "status": "completed"
    },
    "tags": []
   },
   "outputs": [
    {
     "data": {
      "text/plain": [
       "<3x6 sparse matrix of type '<class 'numpy.int64'>'\n",
       "\twith 9 stored elements in Compressed Sparse Row format>"
      ]
     },
     "execution_count": 5,
     "metadata": {},
     "output_type": "execute_result"
    }
   ],
   "source": [
    "simple_train_dtm = vect.transform(simple_train)\n",
    "simple_train_dtm"
   ]
  },
  {
   "cell_type": "code",
   "execution_count": 6,
   "id": "5af88152",
   "metadata": {
    "execution": {
     "iopub.execute_input": "2024-12-26T19:42:46.572069Z",
     "iopub.status.busy": "2024-12-26T19:42:46.571739Z",
     "iopub.status.idle": "2024-12-26T19:42:46.577114Z",
     "shell.execute_reply": "2024-12-26T19:42:46.576300Z"
    },
    "papermill": {
     "duration": 0.013623,
     "end_time": "2024-12-26T19:42:46.578472",
     "exception": false,
     "start_time": "2024-12-26T19:42:46.564849",
     "status": "completed"
    },
    "tags": []
   },
   "outputs": [
    {
     "data": {
      "text/plain": [
       "array([[0, 1, 0, 0, 1, 1],\n",
       "       [1, 1, 1, 0, 0, 0],\n",
       "       [0, 1, 1, 2, 0, 0]])"
      ]
     },
     "execution_count": 6,
     "metadata": {},
     "output_type": "execute_result"
    }
   ],
   "source": [
    "simple_train_dtm.toarray()"
   ]
  },
  {
   "cell_type": "code",
   "execution_count": 7,
   "id": "e6710bff",
   "metadata": {
    "execution": {
     "iopub.execute_input": "2024-12-26T19:42:46.592639Z",
     "iopub.status.busy": "2024-12-26T19:42:46.592311Z",
     "iopub.status.idle": "2024-12-26T19:42:46.610580Z",
     "shell.execute_reply": "2024-12-26T19:42:46.609587Z"
    },
    "papermill": {
     "duration": 0.027071,
     "end_time": "2024-12-26T19:42:46.612065",
     "exception": false,
     "start_time": "2024-12-26T19:42:46.584994",
     "status": "completed"
    },
    "tags": []
   },
   "outputs": [
    {
     "data": {
      "text/html": [
       "<div>\n",
       "<style scoped>\n",
       "    .dataframe tbody tr th:only-of-type {\n",
       "        vertical-align: middle;\n",
       "    }\n",
       "\n",
       "    .dataframe tbody tr th {\n",
       "        vertical-align: top;\n",
       "    }\n",
       "\n",
       "    .dataframe thead th {\n",
       "        text-align: right;\n",
       "    }\n",
       "</style>\n",
       "<table border=\"1\" class=\"dataframe\">\n",
       "  <thead>\n",
       "    <tr style=\"text-align: right;\">\n",
       "      <th></th>\n",
       "      <th>cab</th>\n",
       "      <th>call</th>\n",
       "      <th>me</th>\n",
       "      <th>please</th>\n",
       "      <th>tonight</th>\n",
       "      <th>you</th>\n",
       "    </tr>\n",
       "  </thead>\n",
       "  <tbody>\n",
       "    <tr>\n",
       "      <th>0</th>\n",
       "      <td>0</td>\n",
       "      <td>1</td>\n",
       "      <td>0</td>\n",
       "      <td>0</td>\n",
       "      <td>1</td>\n",
       "      <td>1</td>\n",
       "    </tr>\n",
       "    <tr>\n",
       "      <th>1</th>\n",
       "      <td>1</td>\n",
       "      <td>1</td>\n",
       "      <td>1</td>\n",
       "      <td>0</td>\n",
       "      <td>0</td>\n",
       "      <td>0</td>\n",
       "    </tr>\n",
       "    <tr>\n",
       "      <th>2</th>\n",
       "      <td>0</td>\n",
       "      <td>1</td>\n",
       "      <td>1</td>\n",
       "      <td>2</td>\n",
       "      <td>0</td>\n",
       "      <td>0</td>\n",
       "    </tr>\n",
       "  </tbody>\n",
       "</table>\n",
       "</div>"
      ],
      "text/plain": [
       "   cab  call  me  please  tonight  you\n",
       "0    0     1   0       0        1    1\n",
       "1    1     1   1       0        0    0\n",
       "2    0     1   1       2        0    0"
      ]
     },
     "execution_count": 7,
     "metadata": {},
     "output_type": "execute_result"
    }
   ],
   "source": [
    "pd.DataFrame(simple_train_dtm.toarray(),columns = vect.get_feature_names_out())"
   ]
  },
  {
   "cell_type": "code",
   "execution_count": 8,
   "id": "cd09f3ca",
   "metadata": {
    "execution": {
     "iopub.execute_input": "2024-12-26T19:42:46.626108Z",
     "iopub.status.busy": "2024-12-26T19:42:46.625734Z",
     "iopub.status.idle": "2024-12-26T19:42:46.630980Z",
     "shell.execute_reply": "2024-12-26T19:42:46.630066Z"
    },
    "papermill": {
     "duration": 0.01389,
     "end_time": "2024-12-26T19:42:46.632553",
     "exception": false,
     "start_time": "2024-12-26T19:42:46.618663",
     "status": "completed"
    },
    "tags": []
   },
   "outputs": [
    {
     "name": "stdout",
     "output_type": "stream",
     "text": [
      "<class 'scipy.sparse._csr.csr_matrix'>\n",
      "  (0, 1)\t1\n",
      "  (0, 4)\t1\n",
      "  (0, 5)\t1\n",
      "  (1, 0)\t1\n",
      "  (1, 1)\t1\n",
      "  (1, 2)\t1\n",
      "  (2, 1)\t1\n",
      "  (2, 2)\t1\n",
      "  (2, 3)\t2\n"
     ]
    }
   ],
   "source": [
    "print(type(simple_train_dtm))\n",
    "print(simple_train_dtm)"
   ]
  },
  {
   "cell_type": "code",
   "execution_count": 9,
   "id": "869c1acd",
   "metadata": {
    "execution": {
     "iopub.execute_input": "2024-12-26T19:42:46.646700Z",
     "iopub.status.busy": "2024-12-26T19:42:46.646362Z",
     "iopub.status.idle": "2024-12-26T19:42:46.650231Z",
     "shell.execute_reply": "2024-12-26T19:42:46.649387Z"
    },
    "papermill": {
     "duration": 0.01271,
     "end_time": "2024-12-26T19:42:46.651791",
     "exception": false,
     "start_time": "2024-12-26T19:42:46.639081",
     "status": "completed"
    },
    "tags": []
   },
   "outputs": [],
   "source": [
    "simple_test = [\"please don't call me\"]"
   ]
  },
  {
   "cell_type": "code",
   "execution_count": 10,
   "id": "28d5cf7b",
   "metadata": {
    "execution": {
     "iopub.execute_input": "2024-12-26T19:42:46.666169Z",
     "iopub.status.busy": "2024-12-26T19:42:46.665799Z",
     "iopub.status.idle": "2024-12-26T19:42:46.671782Z",
     "shell.execute_reply": "2024-12-26T19:42:46.670932Z"
    },
    "papermill": {
     "duration": 0.014862,
     "end_time": "2024-12-26T19:42:46.673316",
     "exception": false,
     "start_time": "2024-12-26T19:42:46.658454",
     "status": "completed"
    },
    "tags": []
   },
   "outputs": [
    {
     "data": {
      "text/plain": [
       "array([[0, 1, 1, 1, 0, 0]])"
      ]
     },
     "execution_count": 10,
     "metadata": {},
     "output_type": "execute_result"
    }
   ],
   "source": [
    "simple_test_dtm = vect.transform(simple_test)\n",
    "simple_test_dtm.toarray()"
   ]
  },
  {
   "cell_type": "code",
   "execution_count": 11,
   "id": "c4262d6c",
   "metadata": {
    "execution": {
     "iopub.execute_input": "2024-12-26T19:42:46.688178Z",
     "iopub.status.busy": "2024-12-26T19:42:46.687804Z",
     "iopub.status.idle": "2024-12-26T19:42:46.696557Z",
     "shell.execute_reply": "2024-12-26T19:42:46.695550Z"
    },
    "papermill": {
     "duration": 0.017531,
     "end_time": "2024-12-26T19:42:46.698016",
     "exception": false,
     "start_time": "2024-12-26T19:42:46.680485",
     "status": "completed"
    },
    "tags": []
   },
   "outputs": [
    {
     "data": {
      "text/html": [
       "<div>\n",
       "<style scoped>\n",
       "    .dataframe tbody tr th:only-of-type {\n",
       "        vertical-align: middle;\n",
       "    }\n",
       "\n",
       "    .dataframe tbody tr th {\n",
       "        vertical-align: top;\n",
       "    }\n",
       "\n",
       "    .dataframe thead th {\n",
       "        text-align: right;\n",
       "    }\n",
       "</style>\n",
       "<table border=\"1\" class=\"dataframe\">\n",
       "  <thead>\n",
       "    <tr style=\"text-align: right;\">\n",
       "      <th></th>\n",
       "      <th>cab</th>\n",
       "      <th>call</th>\n",
       "      <th>me</th>\n",
       "      <th>please</th>\n",
       "      <th>tonight</th>\n",
       "      <th>you</th>\n",
       "    </tr>\n",
       "  </thead>\n",
       "  <tbody>\n",
       "    <tr>\n",
       "      <th>0</th>\n",
       "      <td>0</td>\n",
       "      <td>1</td>\n",
       "      <td>1</td>\n",
       "      <td>1</td>\n",
       "      <td>0</td>\n",
       "      <td>0</td>\n",
       "    </tr>\n",
       "  </tbody>\n",
       "</table>\n",
       "</div>"
      ],
      "text/plain": [
       "   cab  call  me  please  tonight  you\n",
       "0    0     1   1       1        0    0"
      ]
     },
     "execution_count": 11,
     "metadata": {},
     "output_type": "execute_result"
    }
   ],
   "source": [
    "pd.DataFrame(simple_test_dtm.toarray(), columns=vect.get_feature_names_out())"
   ]
  },
  {
   "cell_type": "code",
   "execution_count": 12,
   "id": "d8cd278f",
   "metadata": {
    "execution": {
     "iopub.execute_input": "2024-12-26T19:42:46.712717Z",
     "iopub.status.busy": "2024-12-26T19:42:46.712387Z",
     "iopub.status.idle": "2024-12-26T19:42:46.753136Z",
     "shell.execute_reply": "2024-12-26T19:42:46.751978Z"
    },
    "papermill": {
     "duration": 0.050282,
     "end_time": "2024-12-26T19:42:46.755048",
     "exception": false,
     "start_time": "2024-12-26T19:42:46.704766",
     "status": "completed"
    },
    "tags": []
   },
   "outputs": [
    {
     "data": {
      "text/html": [
       "<div>\n",
       "<style scoped>\n",
       "    .dataframe tbody tr th:only-of-type {\n",
       "        vertical-align: middle;\n",
       "    }\n",
       "\n",
       "    .dataframe tbody tr th {\n",
       "        vertical-align: top;\n",
       "    }\n",
       "\n",
       "    .dataframe thead th {\n",
       "        text-align: right;\n",
       "    }\n",
       "</style>\n",
       "<table border=\"1\" class=\"dataframe\">\n",
       "  <thead>\n",
       "    <tr style=\"text-align: right;\">\n",
       "      <th></th>\n",
       "      <th>label</th>\n",
       "      <th>message</th>\n",
       "    </tr>\n",
       "  </thead>\n",
       "  <tbody>\n",
       "    <tr>\n",
       "      <th>0</th>\n",
       "      <td>ham</td>\n",
       "      <td>Go until jurong point, crazy.. Available only ...</td>\n",
       "    </tr>\n",
       "    <tr>\n",
       "      <th>1</th>\n",
       "      <td>ham</td>\n",
       "      <td>Ok lar... Joking wif u oni...</td>\n",
       "    </tr>\n",
       "    <tr>\n",
       "      <th>2</th>\n",
       "      <td>spam</td>\n",
       "      <td>Free entry in 2 a wkly comp to win FA Cup fina...</td>\n",
       "    </tr>\n",
       "    <tr>\n",
       "      <th>3</th>\n",
       "      <td>ham</td>\n",
       "      <td>U dun say so early hor... U c already then say...</td>\n",
       "    </tr>\n",
       "    <tr>\n",
       "      <th>4</th>\n",
       "      <td>ham</td>\n",
       "      <td>Nah I don't think he goes to usf, he lives aro...</td>\n",
       "    </tr>\n",
       "  </tbody>\n",
       "</table>\n",
       "</div>"
      ],
      "text/plain": [
       "  label                                            message\n",
       "0   ham  Go until jurong point, crazy.. Available only ...\n",
       "1   ham                      Ok lar... Joking wif u oni...\n",
       "2  spam  Free entry in 2 a wkly comp to win FA Cup fina...\n",
       "3   ham  U dun say so early hor... U c already then say...\n",
       "4   ham  Nah I don't think he goes to usf, he lives aro..."
      ]
     },
     "execution_count": 12,
     "metadata": {},
     "output_type": "execute_result"
    }
   ],
   "source": [
    "sms = pd.read_csv(\"/kaggle/input/sms-spam-collection-dataset/spam.csv\", encoding='latin-1')\n",
    "sms.dropna(how=\"any\", inplace=True, axis=1)\n",
    "sms.columns = ['label', 'message']\n",
    "\n",
    "sms.head()"
   ]
  },
  {
   "cell_type": "code",
   "execution_count": 13,
   "id": "6fa9876f",
   "metadata": {
    "execution": {
     "iopub.execute_input": "2024-12-26T19:42:46.770140Z",
     "iopub.status.busy": "2024-12-26T19:42:46.769790Z",
     "iopub.status.idle": "2024-12-26T19:42:46.790182Z",
     "shell.execute_reply": "2024-12-26T19:42:46.789221Z"
    },
    "papermill": {
     "duration": 0.02967,
     "end_time": "2024-12-26T19:42:46.791749",
     "exception": false,
     "start_time": "2024-12-26T19:42:46.762079",
     "status": "completed"
    },
    "tags": []
   },
   "outputs": [
    {
     "data": {
      "text/html": [
       "<div>\n",
       "<style scoped>\n",
       "    .dataframe tbody tr th:only-of-type {\n",
       "        vertical-align: middle;\n",
       "    }\n",
       "\n",
       "    .dataframe tbody tr th {\n",
       "        vertical-align: top;\n",
       "    }\n",
       "\n",
       "    .dataframe thead th {\n",
       "        text-align: right;\n",
       "    }\n",
       "</style>\n",
       "<table border=\"1\" class=\"dataframe\">\n",
       "  <thead>\n",
       "    <tr style=\"text-align: right;\">\n",
       "      <th></th>\n",
       "      <th>label</th>\n",
       "      <th>message</th>\n",
       "    </tr>\n",
       "  </thead>\n",
       "  <tbody>\n",
       "    <tr>\n",
       "      <th>count</th>\n",
       "      <td>5572</td>\n",
       "      <td>5572</td>\n",
       "    </tr>\n",
       "    <tr>\n",
       "      <th>unique</th>\n",
       "      <td>2</td>\n",
       "      <td>5169</td>\n",
       "    </tr>\n",
       "    <tr>\n",
       "      <th>top</th>\n",
       "      <td>ham</td>\n",
       "      <td>Sorry, I'll call later</td>\n",
       "    </tr>\n",
       "    <tr>\n",
       "      <th>freq</th>\n",
       "      <td>4825</td>\n",
       "      <td>30</td>\n",
       "    </tr>\n",
       "  </tbody>\n",
       "</table>\n",
       "</div>"
      ],
      "text/plain": [
       "       label                 message\n",
       "count   5572                    5572\n",
       "unique     2                    5169\n",
       "top      ham  Sorry, I'll call later\n",
       "freq    4825                      30"
      ]
     },
     "execution_count": 13,
     "metadata": {},
     "output_type": "execute_result"
    }
   ],
   "source": [
    "sms.describe()"
   ]
  },
  {
   "cell_type": "code",
   "execution_count": 14,
   "id": "38c02517",
   "metadata": {
    "execution": {
     "iopub.execute_input": "2024-12-26T19:42:46.807554Z",
     "iopub.status.busy": "2024-12-26T19:42:46.807169Z",
     "iopub.status.idle": "2024-12-26T19:42:46.833553Z",
     "shell.execute_reply": "2024-12-26T19:42:46.832367Z"
    },
    "papermill": {
     "duration": 0.036021,
     "end_time": "2024-12-26T19:42:46.835105",
     "exception": false,
     "start_time": "2024-12-26T19:42:46.799084",
     "status": "completed"
    },
    "tags": []
   },
   "outputs": [
    {
     "data": {
      "text/html": [
       "<div>\n",
       "<style scoped>\n",
       "    .dataframe tbody tr th:only-of-type {\n",
       "        vertical-align: middle;\n",
       "    }\n",
       "\n",
       "    .dataframe tbody tr th {\n",
       "        vertical-align: top;\n",
       "    }\n",
       "\n",
       "    .dataframe thead tr th {\n",
       "        text-align: left;\n",
       "    }\n",
       "\n",
       "    .dataframe thead tr:last-of-type th {\n",
       "        text-align: right;\n",
       "    }\n",
       "</style>\n",
       "<table border=\"1\" class=\"dataframe\">\n",
       "  <thead>\n",
       "    <tr>\n",
       "      <th></th>\n",
       "      <th colspan=\"4\" halign=\"left\">message</th>\n",
       "    </tr>\n",
       "    <tr>\n",
       "      <th></th>\n",
       "      <th>count</th>\n",
       "      <th>unique</th>\n",
       "      <th>top</th>\n",
       "      <th>freq</th>\n",
       "    </tr>\n",
       "    <tr>\n",
       "      <th>label</th>\n",
       "      <th></th>\n",
       "      <th></th>\n",
       "      <th></th>\n",
       "      <th></th>\n",
       "    </tr>\n",
       "  </thead>\n",
       "  <tbody>\n",
       "    <tr>\n",
       "      <th>ham</th>\n",
       "      <td>4825</td>\n",
       "      <td>4516</td>\n",
       "      <td>Sorry, I'll call later</td>\n",
       "      <td>30</td>\n",
       "    </tr>\n",
       "    <tr>\n",
       "      <th>spam</th>\n",
       "      <td>747</td>\n",
       "      <td>653</td>\n",
       "      <td>Please call our customer service representativ...</td>\n",
       "      <td>4</td>\n",
       "    </tr>\n",
       "  </tbody>\n",
       "</table>\n",
       "</div>"
      ],
      "text/plain": [
       "      message                                                               \n",
       "        count unique                                                top freq\n",
       "label                                                                       \n",
       "ham      4825   4516                             Sorry, I'll call later   30\n",
       "spam      747    653  Please call our customer service representativ...    4"
      ]
     },
     "execution_count": 14,
     "metadata": {},
     "output_type": "execute_result"
    }
   ],
   "source": [
    "sms.groupby('label').describe()"
   ]
  },
  {
   "cell_type": "code",
   "execution_count": 15,
   "id": "5914eb50",
   "metadata": {
    "execution": {
     "iopub.execute_input": "2024-12-26T19:42:46.850793Z",
     "iopub.status.busy": "2024-12-26T19:42:46.850455Z",
     "iopub.status.idle": "2024-12-26T19:42:46.860913Z",
     "shell.execute_reply": "2024-12-26T19:42:46.859944Z"
    },
    "papermill": {
     "duration": 0.02007,
     "end_time": "2024-12-26T19:42:46.862483",
     "exception": false,
     "start_time": "2024-12-26T19:42:46.842413",
     "status": "completed"
    },
    "tags": []
   },
   "outputs": [
    {
     "data": {
      "text/html": [
       "<div>\n",
       "<style scoped>\n",
       "    .dataframe tbody tr th:only-of-type {\n",
       "        vertical-align: middle;\n",
       "    }\n",
       "\n",
       "    .dataframe tbody tr th {\n",
       "        vertical-align: top;\n",
       "    }\n",
       "\n",
       "    .dataframe thead th {\n",
       "        text-align: right;\n",
       "    }\n",
       "</style>\n",
       "<table border=\"1\" class=\"dataframe\">\n",
       "  <thead>\n",
       "    <tr style=\"text-align: right;\">\n",
       "      <th></th>\n",
       "      <th>label</th>\n",
       "      <th>message</th>\n",
       "      <th>label_num</th>\n",
       "    </tr>\n",
       "  </thead>\n",
       "  <tbody>\n",
       "    <tr>\n",
       "      <th>0</th>\n",
       "      <td>ham</td>\n",
       "      <td>Go until jurong point, crazy.. Available only ...</td>\n",
       "      <td>0</td>\n",
       "    </tr>\n",
       "    <tr>\n",
       "      <th>1</th>\n",
       "      <td>ham</td>\n",
       "      <td>Ok lar... Joking wif u oni...</td>\n",
       "      <td>0</td>\n",
       "    </tr>\n",
       "    <tr>\n",
       "      <th>2</th>\n",
       "      <td>spam</td>\n",
       "      <td>Free entry in 2 a wkly comp to win FA Cup fina...</td>\n",
       "      <td>1</td>\n",
       "    </tr>\n",
       "    <tr>\n",
       "      <th>3</th>\n",
       "      <td>ham</td>\n",
       "      <td>U dun say so early hor... U c already then say...</td>\n",
       "      <td>0</td>\n",
       "    </tr>\n",
       "    <tr>\n",
       "      <th>4</th>\n",
       "      <td>ham</td>\n",
       "      <td>Nah I don't think he goes to usf, he lives aro...</td>\n",
       "      <td>0</td>\n",
       "    </tr>\n",
       "  </tbody>\n",
       "</table>\n",
       "</div>"
      ],
      "text/plain": [
       "  label                                            message  label_num\n",
       "0   ham  Go until jurong point, crazy.. Available only ...          0\n",
       "1   ham                      Ok lar... Joking wif u oni...          0\n",
       "2  spam  Free entry in 2 a wkly comp to win FA Cup fina...          1\n",
       "3   ham  U dun say so early hor... U c already then say...          0\n",
       "4   ham  Nah I don't think he goes to usf, he lives aro...          0"
      ]
     },
     "execution_count": 15,
     "metadata": {},
     "output_type": "execute_result"
    }
   ],
   "source": [
    "sms['label_num'] = sms.label.map({'ham':0,'spam':1})\n",
    "sms.head()"
   ]
  },
  {
   "cell_type": "code",
   "execution_count": 16,
   "id": "15474403",
   "metadata": {
    "execution": {
     "iopub.execute_input": "2024-12-26T19:42:46.878852Z",
     "iopub.status.busy": "2024-12-26T19:42:46.878525Z",
     "iopub.status.idle": "2024-12-26T19:42:46.889506Z",
     "shell.execute_reply": "2024-12-26T19:42:46.888547Z"
    },
    "papermill": {
     "duration": 0.020566,
     "end_time": "2024-12-26T19:42:46.890956",
     "exception": false,
     "start_time": "2024-12-26T19:42:46.870390",
     "status": "completed"
    },
    "tags": []
   },
   "outputs": [
    {
     "data": {
      "text/html": [
       "<div>\n",
       "<style scoped>\n",
       "    .dataframe tbody tr th:only-of-type {\n",
       "        vertical-align: middle;\n",
       "    }\n",
       "\n",
       "    .dataframe tbody tr th {\n",
       "        vertical-align: top;\n",
       "    }\n",
       "\n",
       "    .dataframe thead th {\n",
       "        text-align: right;\n",
       "    }\n",
       "</style>\n",
       "<table border=\"1\" class=\"dataframe\">\n",
       "  <thead>\n",
       "    <tr style=\"text-align: right;\">\n",
       "      <th></th>\n",
       "      <th>label</th>\n",
       "      <th>message</th>\n",
       "      <th>label_num</th>\n",
       "      <th>message_len</th>\n",
       "    </tr>\n",
       "  </thead>\n",
       "  <tbody>\n",
       "    <tr>\n",
       "      <th>0</th>\n",
       "      <td>ham</td>\n",
       "      <td>Go until jurong point, crazy.. Available only ...</td>\n",
       "      <td>0</td>\n",
       "      <td>111</td>\n",
       "    </tr>\n",
       "    <tr>\n",
       "      <th>1</th>\n",
       "      <td>ham</td>\n",
       "      <td>Ok lar... Joking wif u oni...</td>\n",
       "      <td>0</td>\n",
       "      <td>29</td>\n",
       "    </tr>\n",
       "    <tr>\n",
       "      <th>2</th>\n",
       "      <td>spam</td>\n",
       "      <td>Free entry in 2 a wkly comp to win FA Cup fina...</td>\n",
       "      <td>1</td>\n",
       "      <td>155</td>\n",
       "    </tr>\n",
       "    <tr>\n",
       "      <th>3</th>\n",
       "      <td>ham</td>\n",
       "      <td>U dun say so early hor... U c already then say...</td>\n",
       "      <td>0</td>\n",
       "      <td>49</td>\n",
       "    </tr>\n",
       "    <tr>\n",
       "      <th>4</th>\n",
       "      <td>ham</td>\n",
       "      <td>Nah I don't think he goes to usf, he lives aro...</td>\n",
       "      <td>0</td>\n",
       "      <td>61</td>\n",
       "    </tr>\n",
       "  </tbody>\n",
       "</table>\n",
       "</div>"
      ],
      "text/plain": [
       "  label                                            message  label_num  \\\n",
       "0   ham  Go until jurong point, crazy.. Available only ...          0   \n",
       "1   ham                      Ok lar... Joking wif u oni...          0   \n",
       "2  spam  Free entry in 2 a wkly comp to win FA Cup fina...          1   \n",
       "3   ham  U dun say so early hor... U c already then say...          0   \n",
       "4   ham  Nah I don't think he goes to usf, he lives aro...          0   \n",
       "\n",
       "   message_len  \n",
       "0          111  \n",
       "1           29  \n",
       "2          155  \n",
       "3           49  \n",
       "4           61  "
      ]
     },
     "execution_count": 16,
     "metadata": {},
     "output_type": "execute_result"
    }
   ],
   "source": [
    "sms['message_len'] = sms.message.apply(len)\n",
    "sms.head()"
   ]
  },
  {
   "cell_type": "code",
   "execution_count": 17,
   "id": "28378fd4",
   "metadata": {
    "execution": {
     "iopub.execute_input": "2024-12-26T19:42:46.907402Z",
     "iopub.status.busy": "2024-12-26T19:42:46.907007Z",
     "iopub.status.idle": "2024-12-26T19:42:46.918039Z",
     "shell.execute_reply": "2024-12-26T19:42:46.917124Z"
    },
    "papermill": {
     "duration": 0.021191,
     "end_time": "2024-12-26T19:42:46.919778",
     "exception": false,
     "start_time": "2024-12-26T19:42:46.898587",
     "status": "completed"
    },
    "tags": []
   },
   "outputs": [
    {
     "name": "stdout",
     "output_type": "stream",
     "text": [
      "910\n",
      "2\n"
     ]
    }
   ],
   "source": [
    "print(sms[sms.label == 'ham'].message_len.max())\n",
    "print(sms[sms.label == 'ham'].message_len.min())"
   ]
  },
  {
   "cell_type": "code",
   "execution_count": 18,
   "id": "48dcba17",
   "metadata": {
    "execution": {
     "iopub.execute_input": "2024-12-26T19:42:46.937553Z",
     "iopub.status.busy": "2024-12-26T19:42:46.937176Z",
     "iopub.status.idle": "2024-12-26T19:42:46.945689Z",
     "shell.execute_reply": "2024-12-26T19:42:46.944575Z"
    },
    "papermill": {
     "duration": 0.019263,
     "end_time": "2024-12-26T19:42:46.947193",
     "exception": false,
     "start_time": "2024-12-26T19:42:46.927930",
     "status": "completed"
    },
    "tags": []
   },
   "outputs": [
    {
     "name": "stdout",
     "output_type": "stream",
     "text": [
      "224\n",
      "13\n"
     ]
    }
   ],
   "source": [
    "print(sms[sms.label == 'spam'].message_len.max())\n",
    "print(sms[sms.label == 'spam'].message_len.min())"
   ]
  },
  {
   "cell_type": "code",
   "execution_count": 19,
   "id": "82f42f61",
   "metadata": {
    "execution": {
     "iopub.execute_input": "2024-12-26T19:42:46.963754Z",
     "iopub.status.busy": "2024-12-26T19:42:46.963432Z",
     "iopub.status.idle": "2024-12-26T19:42:47.406312Z",
     "shell.execute_reply": "2024-12-26T19:42:47.405297Z"
    },
    "papermill": {
     "duration": 0.452993,
     "end_time": "2024-12-26T19:42:47.407922",
     "exception": false,
     "start_time": "2024-12-26T19:42:46.954929",
     "status": "completed"
    },
    "tags": []
   },
   "outputs": [
    {
     "data": {
      "image/png": "[encoded data removed]",
      "text/plain": [
       "<Figure size 1200x800 with 1 Axes>"
      ]
     },
     "metadata": {},
     "output_type": "display_data"
    }
   ],
   "source": [
    "plt.figure(figsize=(12,8))\n",
    "sms[sms.label == 'ham'].message_len.plot(bins=35, kind='hist', color='blue', label='Ham Messages',alpha = 0.6)\n",
    "sms[sms.label == 'spam'].message_len.plot(kind='hist', color='red', label='Spam Messages',alpha = 0.6)\n",
    "plt.legend()\n",
    "plt.xlabel(\"Message Length\")\n",
    "plt.show()"
   ]
  },
  {
   "cell_type": "code",
   "execution_count": 20,
   "id": "64e9a19e",
   "metadata": {
    "execution": {
     "iopub.execute_input": "2024-12-26T19:42:47.426394Z",
     "iopub.status.busy": "2024-12-26T19:42:47.425982Z",
     "iopub.status.idle": "2024-12-26T19:42:47.442415Z",
     "shell.execute_reply": "2024-12-26T19:42:47.441449Z"
    },
    "papermill": {
     "duration": 0.027321,
     "end_time": "2024-12-26T19:42:47.443847",
     "exception": false,
     "start_time": "2024-12-26T19:42:47.416526",
     "status": "completed"
    },
    "tags": []
   },
   "outputs": [
    {
     "data": {
      "text/html": [
       "<div>\n",
       "<style scoped>\n",
       "    .dataframe tbody tr th:only-of-type {\n",
       "        vertical-align: middle;\n",
       "    }\n",
       "\n",
       "    .dataframe tbody tr th {\n",
       "        vertical-align: top;\n",
       "    }\n",
       "\n",
       "    .dataframe thead th {\n",
       "        text-align: right;\n",
       "    }\n",
       "</style>\n",
       "<table border=\"1\" class=\"dataframe\">\n",
       "  <thead>\n",
       "    <tr style=\"text-align: right;\">\n",
       "      <th></th>\n",
       "      <th>label_num</th>\n",
       "      <th>message_len</th>\n",
       "    </tr>\n",
       "  </thead>\n",
       "  <tbody>\n",
       "    <tr>\n",
       "      <th>count</th>\n",
       "      <td>4825.0</td>\n",
       "      <td>4825.000000</td>\n",
       "    </tr>\n",
       "    <tr>\n",
       "      <th>mean</th>\n",
       "      <td>0.0</td>\n",
       "      <td>71.023627</td>\n",
       "    </tr>\n",
       "    <tr>\n",
       "      <th>std</th>\n",
       "      <td>0.0</td>\n",
       "      <td>58.016023</td>\n",
       "    </tr>\n",
       "    <tr>\n",
       "      <th>min</th>\n",
       "      <td>0.0</td>\n",
       "      <td>2.000000</td>\n",
       "    </tr>\n",
       "    <tr>\n",
       "      <th>25%</th>\n",
       "      <td>0.0</td>\n",
       "      <td>33.000000</td>\n",
       "    </tr>\n",
       "    <tr>\n",
       "      <th>50%</th>\n",
       "      <td>0.0</td>\n",
       "      <td>52.000000</td>\n",
       "    </tr>\n",
       "    <tr>\n",
       "      <th>75%</th>\n",
       "      <td>0.0</td>\n",
       "      <td>92.000000</td>\n",
       "    </tr>\n",
       "    <tr>\n",
       "      <th>max</th>\n",
       "      <td>0.0</td>\n",
       "      <td>910.000000</td>\n",
       "    </tr>\n",
       "  </tbody>\n",
       "</table>\n",
       "</div>"
      ],
      "text/plain": [
       "       label_num  message_len\n",
       "count     4825.0  4825.000000\n",
       "mean         0.0    71.023627\n",
       "std          0.0    58.016023\n",
       "min          0.0     2.000000\n",
       "25%          0.0    33.000000\n",
       "50%          0.0    52.000000\n",
       "75%          0.0    92.000000\n",
       "max          0.0   910.000000"
      ]
     },
     "execution_count": 20,
     "metadata": {},
     "output_type": "execute_result"
    }
   ],
   "source": [
    "sms[sms.label=='ham'].describe()"
   ]
  },
  {
   "cell_type": "code",
   "execution_count": 21,
   "id": "f993edab",
   "metadata": {
    "execution": {
     "iopub.execute_input": "2024-12-26T19:42:47.462592Z",
     "iopub.status.busy": "2024-12-26T19:42:47.462238Z",
     "iopub.status.idle": "2024-12-26T19:42:47.476595Z",
     "shell.execute_reply": "2024-12-26T19:42:47.475645Z"
    },
    "papermill": {
     "duration": 0.025608,
     "end_time": "2024-12-26T19:42:47.478247",
     "exception": false,
     "start_time": "2024-12-26T19:42:47.452639",
     "status": "completed"
    },
    "tags": []
   },
   "outputs": [
    {
     "data": {
      "text/html": [
       "<div>\n",
       "<style scoped>\n",
       "    .dataframe tbody tr th:only-of-type {\n",
       "        vertical-align: middle;\n",
       "    }\n",
       "\n",
       "    .dataframe tbody tr th {\n",
       "        vertical-align: top;\n",
       "    }\n",
       "\n",
       "    .dataframe thead th {\n",
       "        text-align: right;\n",
       "    }\n",
       "</style>\n",
       "<table border=\"1\" class=\"dataframe\">\n",
       "  <thead>\n",
       "    <tr style=\"text-align: right;\">\n",
       "      <th></th>\n",
       "      <th>label_num</th>\n",
       "      <th>message_len</th>\n",
       "    </tr>\n",
       "  </thead>\n",
       "  <tbody>\n",
       "    <tr>\n",
       "      <th>count</th>\n",
       "      <td>747.0</td>\n",
       "      <td>747.000000</td>\n",
       "    </tr>\n",
       "    <tr>\n",
       "      <th>mean</th>\n",
       "      <td>1.0</td>\n",
       "      <td>138.866131</td>\n",
       "    </tr>\n",
       "    <tr>\n",
       "      <th>std</th>\n",
       "      <td>0.0</td>\n",
       "      <td>29.183082</td>\n",
       "    </tr>\n",
       "    <tr>\n",
       "      <th>min</th>\n",
       "      <td>1.0</td>\n",
       "      <td>13.000000</td>\n",
       "    </tr>\n",
       "    <tr>\n",
       "      <th>25%</th>\n",
       "      <td>1.0</td>\n",
       "      <td>132.500000</td>\n",
       "    </tr>\n",
       "    <tr>\n",
       "      <th>50%</th>\n",
       "      <td>1.0</td>\n",
       "      <td>149.000000</td>\n",
       "    </tr>\n",
       "    <tr>\n",
       "      <th>75%</th>\n",
       "      <td>1.0</td>\n",
       "      <td>157.000000</td>\n",
       "    </tr>\n",
       "    <tr>\n",
       "      <th>max</th>\n",
       "      <td>1.0</td>\n",
       "      <td>224.000000</td>\n",
       "    </tr>\n",
       "  </tbody>\n",
       "</table>\n",
       "</div>"
      ],
      "text/plain": [
       "       label_num  message_len\n",
       "count      747.0   747.000000\n",
       "mean         1.0   138.866131\n",
       "std          0.0    29.183082\n",
       "min          1.0    13.000000\n",
       "25%          1.0   132.500000\n",
       "50%          1.0   149.000000\n",
       "75%          1.0   157.000000\n",
       "max          1.0   224.000000"
      ]
     },
     "execution_count": 21,
     "metadata": {},
     "output_type": "execute_result"
    }
   ],
   "source": [
    "sms[sms.label=='spam'].describe()"
   ]
  },
  {
   "cell_type": "code",
   "execution_count": 22,
   "id": "2206dda2",
   "metadata": {
    "execution": {
     "iopub.execute_input": "2024-12-26T19:42:47.497324Z",
     "iopub.status.busy": "2024-12-26T19:42:47.496921Z",
     "iopub.status.idle": "2024-12-26T19:42:48.234777Z",
     "shell.execute_reply": "2024-12-26T19:42:48.233784Z"
    },
    "papermill": {
     "duration": 0.749508,
     "end_time": "2024-12-26T19:42:48.236603",
     "exception": false,
     "start_time": "2024-12-26T19:42:47.487095",
     "status": "completed"
    },
    "tags": []
   },
   "outputs": [],
   "source": [
    "import string\n",
    "from nltk.corpus import stopwords\n",
    "\n",
    "def text_process(message):\n",
    "    STOPWORDS = stopwords.words('english') + ['u', 'ü', 'ur', '4', '2', 'im', 'dont', 'doin', 'ure']\n",
    "    nopunc = [char for char in message if char not in string.punctuation]\n",
    "    nopunc = ''.join(nopunc)\n",
    "    return ' '.join(word for word in nopunc.split() if word.lower() not in STOPWORDS)\n",
    "    "
   ]
  },
  {
   "cell_type": "code",
   "execution_count": 23,
   "id": "13461e91",
   "metadata": {
    "execution": {
     "iopub.execute_input": "2024-12-26T19:42:48.256332Z",
     "iopub.status.busy": "2024-12-26T19:42:48.255919Z",
     "iopub.status.idle": "2024-12-26T19:42:49.154379Z",
     "shell.execute_reply": "2024-12-26T19:42:49.153452Z"
    },
    "papermill": {
     "duration": 0.910111,
     "end_time": "2024-12-26T19:42:49.155985",
     "exception": false,
     "start_time": "2024-12-26T19:42:48.245874",
     "status": "completed"
    },
    "tags": []
   },
   "outputs": [
    {
     "data": {
      "text/html": [
       "<div>\n",
       "<style scoped>\n",
       "    .dataframe tbody tr th:only-of-type {\n",
       "        vertical-align: middle;\n",
       "    }\n",
       "\n",
       "    .dataframe tbody tr th {\n",
       "        vertical-align: top;\n",
       "    }\n",
       "\n",
       "    .dataframe thead th {\n",
       "        text-align: right;\n",
       "    }\n",
       "</style>\n",
       "<table border=\"1\" class=\"dataframe\">\n",
       "  <thead>\n",
       "    <tr style=\"text-align: right;\">\n",
       "      <th></th>\n",
       "      <th>label</th>\n",
       "      <th>message</th>\n",
       "      <th>label_num</th>\n",
       "      <th>message_len</th>\n",
       "      <th>clean_msg</th>\n",
       "      <th>clean_msg_len</th>\n",
       "    </tr>\n",
       "  </thead>\n",
       "  <tbody>\n",
       "    <tr>\n",
       "      <th>0</th>\n",
       "      <td>ham</td>\n",
       "      <td>Go until jurong point, crazy.. Available only ...</td>\n",
       "      <td>0</td>\n",
       "      <td>111</td>\n",
       "      <td>Go jurong point crazy Available bugis n great ...</td>\n",
       "      <td>82</td>\n",
       "    </tr>\n",
       "    <tr>\n",
       "      <th>1</th>\n",
       "      <td>ham</td>\n",
       "      <td>Ok lar... Joking wif u oni...</td>\n",
       "      <td>0</td>\n",
       "      <td>29</td>\n",
       "      <td>Ok lar Joking wif oni</td>\n",
       "      <td>21</td>\n",
       "    </tr>\n",
       "    <tr>\n",
       "      <th>2</th>\n",
       "      <td>spam</td>\n",
       "      <td>Free entry in 2 a wkly comp to win FA Cup fina...</td>\n",
       "      <td>1</td>\n",
       "      <td>155</td>\n",
       "      <td>Free entry wkly comp win FA Cup final tkts 21s...</td>\n",
       "      <td>133</td>\n",
       "    </tr>\n",
       "    <tr>\n",
       "      <th>3</th>\n",
       "      <td>ham</td>\n",
       "      <td>U dun say so early hor... U c already then say...</td>\n",
       "      <td>0</td>\n",
       "      <td>49</td>\n",
       "      <td>dun say early hor c already say</td>\n",
       "      <td>31</td>\n",
       "    </tr>\n",
       "    <tr>\n",
       "      <th>4</th>\n",
       "      <td>ham</td>\n",
       "      <td>Nah I don't think he goes to usf, he lives aro...</td>\n",
       "      <td>0</td>\n",
       "      <td>61</td>\n",
       "      <td>Nah think goes usf lives around though</td>\n",
       "      <td>38</td>\n",
       "    </tr>\n",
       "  </tbody>\n",
       "</table>\n",
       "</div>"
      ],
      "text/plain": [
       "  label                                            message  label_num  \\\n",
       "0   ham  Go until jurong point, crazy.. Available only ...          0   \n",
       "1   ham                      Ok lar... Joking wif u oni...          0   \n",
       "2  spam  Free entry in 2 a wkly comp to win FA Cup fina...          1   \n",
       "3   ham  U dun say so early hor... U c already then say...          0   \n",
       "4   ham  Nah I don't think he goes to usf, he lives aro...          0   \n",
       "\n",
       "   message_len                                          clean_msg  \\\n",
       "0          111  Go jurong point crazy Available bugis n great ...   \n",
       "1           29                              Ok lar Joking wif oni   \n",
       "2          155  Free entry wkly comp win FA Cup final tkts 21s...   \n",
       "3           49                    dun say early hor c already say   \n",
       "4           61             Nah think goes usf lives around though   \n",
       "\n",
       "   clean_msg_len  \n",
       "0             82  \n",
       "1             21  \n",
       "2            133  \n",
       "3             31  \n",
       "4             38  "
      ]
     },
     "execution_count": 23,
     "metadata": {},
     "output_type": "execute_result"
    }
   ],
   "source": [
    "sms['clean_msg'] = sms.message.apply(text_process)\n",
    "sms['clean_msg_len'] = sms.clean_msg.apply(len)\n",
    "sms.head()"
   ]
  },
  {
   "cell_type": "code",
   "execution_count": 24,
   "id": "fcb12337",
   "metadata": {
    "execution": {
     "iopub.execute_input": "2024-12-26T19:42:49.175118Z",
     "iopub.status.busy": "2024-12-26T19:42:49.174750Z",
     "iopub.status.idle": "2024-12-26T19:42:49.204309Z",
     "shell.execute_reply": "2024-12-26T19:42:49.203162Z"
    },
    "papermill": {
     "duration": 0.04099,
     "end_time": "2024-12-26T19:42:49.205971",
     "exception": false,
     "start_time": "2024-12-26T19:42:49.164981",
     "status": "completed"
    },
    "tags": []
   },
   "outputs": [
    {
     "name": "stdout",
     "output_type": "stream",
     "text": [
      "[('get', 303), ('ltgt', 276), ('ok', 272), ('go', 247), ('ill', 236), ('know', 232), ('got', 231), ('like', 229), ('call', 229), ('come', 224), ('good', 222), ('time', 189), ('day', 187), ('love', 185), ('going', 167), ('want', 163), ('one', 162), ('home', 160), ('lor', 160), ('need', 156), ('sorry', 153), ('still', 146), ('see', 137), ('n', 134), ('later', 134), ('da', 131), ('r', 131), ('back', 129), ('think', 128), ('well', 126), ('today', 125), ('send', 123), ('tell', 121), ('cant', 118), ('ì', 117), ('hi', 117), ('take', 112), ('much', 112), ('oh', 111), ('night', 107), ('hey', 106), ('happy', 105), ('great', 100), ('way', 100), ('hope', 99), ('pls', 98), ('work', 96), ('wat', 95), ('thats', 94), ('dear', 94)]\n"
     ]
    }
   ],
   "source": [
    "from collections import Counter\n",
    "\n",
    "words = sms[sms.label=='ham'].clean_msg.apply(lambda x : [word.lower() for word in x.split()])\n",
    "ham_words = Counter()\n",
    "\n",
    "for message in words:\n",
    "    ham_words.update(message)\n",
    "\n",
    "print(ham_words.most_common(50))"
   ]
  },
  {
   "cell_type": "code",
   "execution_count": 25,
   "id": "4f96bcff",
   "metadata": {
    "execution": {
     "iopub.execute_input": "2024-12-26T19:42:49.226357Z",
     "iopub.status.busy": "2024-12-26T19:42:49.225910Z",
     "iopub.status.idle": "2024-12-26T19:42:49.240894Z",
     "shell.execute_reply": "2024-12-26T19:42:49.239753Z"
    },
    "papermill": {
     "duration": 0.026996,
     "end_time": "2024-12-26T19:42:49.242583",
     "exception": false,
     "start_time": "2024-12-26T19:42:49.215587",
     "status": "completed"
    },
    "tags": []
   },
   "outputs": [
    {
     "name": "stdout",
     "output_type": "stream",
     "text": [
      "[('call', 347), ('free', 216), ('txt', 150), ('mobile', 123), ('text', 120), ('claim', 113), ('stop', 113), ('reply', 101), ('prize', 92), ('get', 83), ('new', 69), ('send', 67), ('nokia', 65), ('urgent', 63), ('cash', 62), ('win', 60), ('contact', 56), ('service', 55), ('please', 52), ('guaranteed', 50), ('customer', 49), ('16', 49), ('week', 49), ('tone', 48), ('per', 46), ('phone', 45), ('18', 43), ('chat', 42), ('awarded', 38), ('draw', 38), ('latest', 36), ('å£1000', 35), ('line', 35), ('150ppm', 34), ('mins', 34), ('receive', 33), ('camera', 33), ('1', 33), ('every', 33), ('message', 32), ('holiday', 32), ('landline', 32), ('shows', 31), ('å£2000', 31), ('go', 31), ('box', 30), ('number', 30), ('apply', 29), ('code', 29), ('live', 29)]\n"
     ]
    }
   ],
   "source": [
    "words = sms[sms.label=='spam'].clean_msg.apply(lambda x : [word.lower() for word in x.split()])\n",
    "spam_words = Counter()\n",
    "\n",
    "for message in words:\n",
    "    spam_words.update(message)\n",
    "\n",
    "print(spam_words.most_common(50))"
   ]
  },
  {
   "cell_type": "code",
   "execution_count": 26,
   "id": "8c57a824",
   "metadata": {
    "execution": {
     "iopub.execute_input": "2024-12-26T19:42:49.261968Z",
     "iopub.status.busy": "2024-12-26T19:42:49.261586Z",
     "iopub.status.idle": "2024-12-26T19:42:49.271129Z",
     "shell.execute_reply": "2024-12-26T19:42:49.270193Z"
    },
    "papermill": {
     "duration": 0.021168,
     "end_time": "2024-12-26T19:42:49.272832",
     "exception": false,
     "start_time": "2024-12-26T19:42:49.251664",
     "status": "completed"
    },
    "tags": []
   },
   "outputs": [
    {
     "data": {
      "text/html": [
       "<div>\n",
       "<style scoped>\n",
       "    .dataframe tbody tr th:only-of-type {\n",
       "        vertical-align: middle;\n",
       "    }\n",
       "\n",
       "    .dataframe tbody tr th {\n",
       "        vertical-align: top;\n",
       "    }\n",
       "\n",
       "    .dataframe thead th {\n",
       "        text-align: right;\n",
       "    }\n",
       "</style>\n",
       "<table border=\"1\" class=\"dataframe\">\n",
       "  <thead>\n",
       "    <tr style=\"text-align: right;\">\n",
       "      <th></th>\n",
       "      <th>label</th>\n",
       "      <th>message</th>\n",
       "      <th>label_num</th>\n",
       "      <th>message_len</th>\n",
       "      <th>clean_msg</th>\n",
       "      <th>clean_msg_len</th>\n",
       "    </tr>\n",
       "  </thead>\n",
       "  <tbody>\n",
       "    <tr>\n",
       "      <th>0</th>\n",
       "      <td>ham</td>\n",
       "      <td>Go until jurong point, crazy.. Available only ...</td>\n",
       "      <td>0</td>\n",
       "      <td>111</td>\n",
       "      <td>Go jurong point crazy Available bugis n great ...</td>\n",
       "      <td>82</td>\n",
       "    </tr>\n",
       "    <tr>\n",
       "      <th>1</th>\n",
       "      <td>ham</td>\n",
       "      <td>Ok lar... Joking wif u oni...</td>\n",
       "      <td>0</td>\n",
       "      <td>29</td>\n",
       "      <td>Ok lar Joking wif oni</td>\n",
       "      <td>21</td>\n",
       "    </tr>\n",
       "    <tr>\n",
       "      <th>2</th>\n",
       "      <td>spam</td>\n",
       "      <td>Free entry in 2 a wkly comp to win FA Cup fina...</td>\n",
       "      <td>1</td>\n",
       "      <td>155</td>\n",
       "      <td>Free entry wkly comp win FA Cup final tkts 21s...</td>\n",
       "      <td>133</td>\n",
       "    </tr>\n",
       "    <tr>\n",
       "      <th>3</th>\n",
       "      <td>ham</td>\n",
       "      <td>U dun say so early hor... U c already then say...</td>\n",
       "      <td>0</td>\n",
       "      <td>49</td>\n",
       "      <td>dun say early hor c already say</td>\n",
       "      <td>31</td>\n",
       "    </tr>\n",
       "    <tr>\n",
       "      <th>4</th>\n",
       "      <td>ham</td>\n",
       "      <td>Nah I don't think he goes to usf, he lives aro...</td>\n",
       "      <td>0</td>\n",
       "      <td>61</td>\n",
       "      <td>Nah think goes usf lives around though</td>\n",
       "      <td>38</td>\n",
       "    </tr>\n",
       "  </tbody>\n",
       "</table>\n",
       "</div>"
      ],
      "text/plain": [
       "  label                                            message  label_num  \\\n",
       "0   ham  Go until jurong point, crazy.. Available only ...          0   \n",
       "1   ham                      Ok lar... Joking wif u oni...          0   \n",
       "2  spam  Free entry in 2 a wkly comp to win FA Cup fina...          1   \n",
       "3   ham  U dun say so early hor... U c already then say...          0   \n",
       "4   ham  Nah I don't think he goes to usf, he lives aro...          0   \n",
       "\n",
       "   message_len                                          clean_msg  \\\n",
       "0          111  Go jurong point crazy Available bugis n great ...   \n",
       "1           29                              Ok lar Joking wif oni   \n",
       "2          155  Free entry wkly comp win FA Cup final tkts 21s...   \n",
       "3           49                    dun say early hor c already say   \n",
       "4           61             Nah think goes usf lives around though   \n",
       "\n",
       "   clean_msg_len  \n",
       "0             82  \n",
       "1             21  \n",
       "2            133  \n",
       "3             31  \n",
       "4             38  "
      ]
     },
     "execution_count": 26,
     "metadata": {},
     "output_type": "execute_result"
    }
   ],
   "source": [
    "sms.head()"
   ]
  },
  {
   "cell_type": "code",
   "execution_count": 27,
   "id": "c0dbd8b7",
   "metadata": {
    "execution": {
     "iopub.execute_input": "2024-12-26T19:42:49.293106Z",
     "iopub.status.busy": "2024-12-26T19:42:49.292745Z",
     "iopub.status.idle": "2024-12-26T19:42:49.298417Z",
     "shell.execute_reply": "2024-12-26T19:42:49.297267Z"
    },
    "papermill": {
     "duration": 0.017617,
     "end_time": "2024-12-26T19:42:49.299935",
     "exception": false,
     "start_time": "2024-12-26T19:42:49.282318",
     "status": "completed"
    },
    "tags": []
   },
   "outputs": [
    {
     "name": "stdout",
     "output_type": "stream",
     "text": [
      "(5572,)\n",
      "(5572,)\n"
     ]
    }
   ],
   "source": [
    "from sklearn.model_selection import train_test_split\n",
    "\n",
    "X = sms.clean_msg\n",
    "y = sms.label_num\n",
    "print(X.shape)\n",
    "print(y.shape)"
   ]
  },
  {
   "cell_type": "code",
   "execution_count": 28,
   "id": "b9a08a9a",
   "metadata": {
    "execution": {
     "iopub.execute_input": "2024-12-26T19:42:49.320536Z",
     "iopub.status.busy": "2024-12-26T19:42:49.320143Z",
     "iopub.status.idle": "2024-12-26T19:42:49.330370Z",
     "shell.execute_reply": "2024-12-26T19:42:49.329446Z"
    },
    "papermill": {
     "duration": 0.022306,
     "end_time": "2024-12-26T19:42:49.332010",
     "exception": false,
     "start_time": "2024-12-26T19:42:49.309704",
     "status": "completed"
    },
    "tags": []
   },
   "outputs": [
    {
     "name": "stdout",
     "output_type": "stream",
     "text": [
      "(4179,)\n",
      "(1393,)\n",
      "(4179,)\n",
      "(1393,)\n"
     ]
    }
   ],
   "source": [
    "X_train, X_test, y_train, y_test = train_test_split(X, y, random_state=1)\n",
    "\n",
    "print(X_train.shape)\n",
    "print(X_test.shape)\n",
    "print(y_train.shape)\n",
    "print(y_test.shape)"
   ]
  },
  {
   "cell_type": "code",
   "execution_count": 29,
   "id": "fa651517",
   "metadata": {
    "execution": {
     "iopub.execute_input": "2024-12-26T19:42:49.352935Z",
     "iopub.status.busy": "2024-12-26T19:42:49.352536Z",
     "iopub.status.idle": "2024-12-26T19:42:49.560181Z",
     "shell.execute_reply": "2024-12-26T19:42:49.559306Z"
    },
    "papermill": {
     "duration": 0.220273,
     "end_time": "2024-12-26T19:42:49.562115",
     "exception": false,
     "start_time": "2024-12-26T19:42:49.341842",
     "status": "completed"
    },
    "tags": []
   },
   "outputs": [],
   "source": [
    "from sklearn.feature_extraction.text import CountVectorizer\n",
    "\n",
    "vect = CountVectorizer()\n",
    "vect.fit(X_train)\n",
    "\n",
    "X_train_dtm = vect.transform(X_train)\n",
    "\n",
    "X_test_dtm = vect.transform(X_test)"
   ]
  },
  {
   "cell_type": "code",
   "execution_count": 30,
   "id": "ab6a107e",
   "metadata": {
    "execution": {
     "iopub.execute_input": "2024-12-26T19:42:49.583391Z",
     "iopub.status.busy": "2024-12-26T19:42:49.582992Z",
     "iopub.status.idle": "2024-12-26T19:42:49.597701Z",
     "shell.execute_reply": "2024-12-26T19:42:49.596612Z"
    },
    "papermill": {
     "duration": 0.027368,
     "end_time": "2024-12-26T19:42:49.599394",
     "exception": false,
     "start_time": "2024-12-26T19:42:49.572026",
     "status": "completed"
    },
    "tags": []
   },
   "outputs": [
    {
     "data": {
      "text/plain": [
       "<4179x7996 sparse matrix of type '<class 'numpy.float64'>'\n",
       "\twith 34796 stored elements in Compressed Sparse Row format>"
      ]
     },
     "execution_count": 30,
     "metadata": {},
     "output_type": "execute_result"
    }
   ],
   "source": [
    "from sklearn.feature_extraction.text import TfidfTransformer\n",
    "\n",
    "tfidf_transformer = TfidfTransformer()\n",
    "tfidf_transformer.fit(X_train_dtm)\n",
    "tfidf_transformer.transform(X_train_dtm)"
   ]
  },
  {
   "cell_type": "code",
   "execution_count": null,
   "id": "1b63c3a9",
   "metadata": {
    "papermill": {
     "duration": 0.009334,
     "end_time": "2024-12-26T19:42:49.618558",
     "exception": false,
     "start_time": "2024-12-26T19:42:49.609224",
     "status": "completed"
    },
    "tags": []
   },
   "outputs": [],
   "source": []
  },
  {
   "cell_type": "code",
   "execution_count": null,
   "id": "68bba3a9",
   "metadata": {
    "papermill": {
     "duration": 0.00921,
     "end_time": "2024-12-26T19:42:49.637181",
     "exception": false,
     "start_time": "2024-12-26T19:42:49.627971",
     "status": "completed"
    },
    "tags": []
   },
   "outputs": [],
   "source": []
  }
 ],
 "metadata": {
  "kaggle": {
   "accelerator": "none",
   "dataSources": [
    {
     "datasetId": 483,
     "sourceId": 982,
     "sourceType": "datasetVersion"
    }
   ],
   "dockerImageVersionId": 30822,
   "isGpuEnabled": false,
   "isInternetEnabled": false,
   "language": "python",
   "sourceType": "notebook"
  },
  "kernelspec": {
   "display_name": "Python 3",
   "language": "python",
   "name": "python3"
  },
  "language_info": {
   "codemirror_mode": {
    "name": "ipython",
    "version": 3
   },
   "file_extension": ".py",
   "mimetype": "text/x-python",
   "name": "python",
   "nbconvert_exporter": "python",
   "pygments_lexer": "ipython3",
   "version": "3.10.12"
  },
  "papermill": {
   "default_parameters": {},
   "duration": 8.040004,
   "end_time": "2024-12-26T19:42:50.366786",
   "environment_variables": {},
   "exception": null,
   "input_path": "__notebook__.ipynb",
   "output_path": "__notebook__.ipynb",
   "parameters": {},
   "start_time": "2024-12-26T19:42:42.326782",
   "version": "2.6.0"
  }
 },
 "nbformat": 4,
 "nbformat_minor": 5
}
