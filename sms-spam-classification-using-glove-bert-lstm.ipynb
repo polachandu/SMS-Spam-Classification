{
 "cells": [
  {
   "cell_type": "code",
   "execution_count": 1,
   "id": "6746961f",
   "metadata": {
    "_cell_guid": "b1076dfc-b9ad-4769-8c92-a6c4dae69d19",
    "_uuid": "8f2839f25d086af736a60e9eeb907d3b93b6e0e5",
    "execution": {
     "iopub.execute_input": "2025-01-04T03:18:31.098111Z",
     "iopub.status.busy": "2025-01-04T03:18:31.097695Z",
     "iopub.status.idle": "2025-01-04T03:18:31.462387Z",
     "shell.execute_reply": "2025-01-04T03:18:31.461328Z"
    },
    "papermill": {
     "duration": 0.372698,
     "end_time": "2025-01-04T03:18:31.464076",
     "exception": false,
     "start_time": "2025-01-04T03:18:31.091378",
     "status": "completed"
    },
    "tags": []
   },
   "outputs": [
    {
     "name": "stdout",
     "output_type": "stream",
     "text": [
      "/kaggle/input/sms-spam-collection-dataset/spam.csv\n"
     ]
    }
   ],
   "source": [
    "# This Python 3 environment comes with many helpful analytics libraries installed\n",
    "# It is defined by the kaggle/python Docker image: https://github.com/kaggle/docker-python\n",
    "# For example, here's several helpful packages to load\n",
    "\n",
    "import numpy as np # linear algebra\n",
    "import pandas as pd # data processing, CSV file I/O (e.g. pd.read_csv)\n",
    "\n",
    "# Input data files are available in the read-only \"../input/\" directory\n",
    "# For example, running this (by clicking run or pressing Shift+Enter) will list all files under the input directory\n",
    "\n",
    "import os\n",
    "for dirname, _, filenames in os.walk('/kaggle/input'):\n",
    "    for filename in filenames:\n",
    "        print(os.path.join(dirname, filename))\n",
    "\n",
    "# You can write up to 20GB to the current directory (/kaggle/working/) that gets preserved as output when you create a version using \"Save & Run All\" \n",
    "# You can also write temporary files to /kaggle/temp/, but they won't be saved outside of the current session"
   ]
  },
  {
   "cell_type": "markdown",
   "id": "64a24b0e",
   "metadata": {
    "papermill": {
     "duration": 0.004194,
     "end_time": "2025-01-04T03:18:31.473073",
     "exception": false,
     "start_time": "2025-01-04T03:18:31.468879",
     "status": "completed"
    },
    "tags": []
   },
   "source": [
    "# Importing Libraries"
   ]
  },
  {
   "cell_type": "code",
   "execution_count": 2,
   "id": "bd2901d3",
   "metadata": {
    "execution": {
     "iopub.execute_input": "2025-01-04T03:18:31.482852Z",
     "iopub.status.busy": "2025-01-04T03:18:31.482424Z",
     "iopub.status.idle": "2025-01-04T03:18:33.625215Z",
     "shell.execute_reply": "2025-01-04T03:18:33.624160Z"
    },
    "papermill": {
     "duration": 2.149767,
     "end_time": "2025-01-04T03:18:33.627122",
     "exception": false,
     "start_time": "2025-01-04T03:18:31.477355",
     "status": "completed"
    },
    "tags": []
   },
   "outputs": [],
   "source": [
    "from plotly import graph_objs as go\n",
    "import plotly.express as px\n",
    "import re\n",
    "import string\n",
    "from nltk.corpus import stopwords"
   ]
  },
  {
   "cell_type": "code",
   "execution_count": 3,
   "id": "2ae7e1a6",
   "metadata": {
    "execution": {
     "iopub.execute_input": "2025-01-04T03:18:33.637474Z",
     "iopub.status.busy": "2025-01-04T03:18:33.636937Z",
     "iopub.status.idle": "2025-01-04T03:18:33.641625Z",
     "shell.execute_reply": "2025-01-04T03:18:33.640712Z"
    },
    "papermill": {
     "duration": 0.011168,
     "end_time": "2025-01-04T03:18:33.643058",
     "exception": false,
     "start_time": "2025-01-04T03:18:33.631890",
     "status": "completed"
    },
    "tags": []
   },
   "outputs": [],
   "source": [
    "primary_blue = \"#496595\"\n",
    "primary_blue2 = \"#85a1c1\"\n",
    "primary_blue3 = \"#3f4d63\"\n",
    "primary_grey = \"#c6ccd8\"\n",
    "primary_black = \"#202022\"\n",
    "primary_bgcolor = \"#f4f0ea\"\n",
    "\n",
    "primary_green = px.colors.qualitative.Plotly[2]"
   ]
  },
  {
   "cell_type": "markdown",
   "id": "c7933814",
   "metadata": {
    "papermill": {
     "duration": 0.004117,
     "end_time": "2025-01-04T03:18:33.651605",
     "exception": false,
     "start_time": "2025-01-04T03:18:33.647488",
     "status": "completed"
    },
    "tags": []
   },
   "source": [
    "# Importing Data"
   ]
  },
  {
   "cell_type": "code",
   "execution_count": 4,
   "id": "2f6781f0",
   "metadata": {
    "execution": {
     "iopub.execute_input": "2025-01-04T03:18:33.661358Z",
     "iopub.status.busy": "2025-01-04T03:18:33.660999Z",
     "iopub.status.idle": "2025-01-04T03:18:33.716241Z",
     "shell.execute_reply": "2025-01-04T03:18:33.715256Z"
    },
    "papermill": {
     "duration": 0.061901,
     "end_time": "2025-01-04T03:18:33.717842",
     "exception": false,
     "start_time": "2025-01-04T03:18:33.655941",
     "status": "completed"
    },
    "tags": []
   },
   "outputs": [
    {
     "data": {
      "text/html": [
       "<div>\n",
       "<style scoped>\n",
       "    .dataframe tbody tr th:only-of-type {\n",
       "        vertical-align: middle;\n",
       "    }\n",
       "\n",
       "    .dataframe tbody tr th {\n",
       "        vertical-align: top;\n",
       "    }\n",
       "\n",
       "    .dataframe thead th {\n",
       "        text-align: right;\n",
       "    }\n",
       "</style>\n",
       "<table border=\"1\" class=\"dataframe\">\n",
       "  <thead>\n",
       "    <tr style=\"text-align: right;\">\n",
       "      <th></th>\n",
       "      <th>target</th>\n",
       "      <th>message</th>\n",
       "    </tr>\n",
       "  </thead>\n",
       "  <tbody>\n",
       "    <tr>\n",
       "      <th>0</th>\n",
       "      <td>ham</td>\n",
       "      <td>Go until jurong point, crazy.. Available only ...</td>\n",
       "    </tr>\n",
       "    <tr>\n",
       "      <th>1</th>\n",
       "      <td>ham</td>\n",
       "      <td>Ok lar... Joking wif u oni...</td>\n",
       "    </tr>\n",
       "    <tr>\n",
       "      <th>2</th>\n",
       "      <td>spam</td>\n",
       "      <td>Free entry in 2 a wkly comp to win FA Cup fina...</td>\n",
       "    </tr>\n",
       "    <tr>\n",
       "      <th>3</th>\n",
       "      <td>ham</td>\n",
       "      <td>U dun say so early hor... U c already then say...</td>\n",
       "    </tr>\n",
       "    <tr>\n",
       "      <th>4</th>\n",
       "      <td>ham</td>\n",
       "      <td>Nah I don't think he goes to usf, he lives aro...</td>\n",
       "    </tr>\n",
       "  </tbody>\n",
       "</table>\n",
       "</div>"
      ],
      "text/plain": [
       "  target                                            message\n",
       "0    ham  Go until jurong point, crazy.. Available only ...\n",
       "1    ham                      Ok lar... Joking wif u oni...\n",
       "2   spam  Free entry in 2 a wkly comp to win FA Cup fina...\n",
       "3    ham  U dun say so early hor... U c already then say...\n",
       "4    ham  Nah I don't think he goes to usf, he lives aro..."
      ]
     },
     "execution_count": 4,
     "metadata": {},
     "output_type": "execute_result"
    }
   ],
   "source": [
    "df = pd.read_csv(\"/kaggle/input/sms-spam-collection-dataset/spam.csv\", encoding=\"latin-1\")\n",
    "\n",
    "df = df.dropna(how=\"any\", axis=1)\n",
    "df.columns = ['target', 'message']\n",
    "\n",
    "df.head()"
   ]
  },
  {
   "cell_type": "code",
   "execution_count": 5,
   "id": "857cfbdd",
   "metadata": {
    "execution": {
     "iopub.execute_input": "2025-01-04T03:18:33.728114Z",
     "iopub.status.busy": "2025-01-04T03:18:33.727776Z",
     "iopub.status.idle": "2025-01-04T03:18:33.747978Z",
     "shell.execute_reply": "2025-01-04T03:18:33.747067Z"
    },
    "papermill": {
     "duration": 0.02688,
     "end_time": "2025-01-04T03:18:33.749479",
     "exception": false,
     "start_time": "2025-01-04T03:18:33.722599",
     "status": "completed"
    },
    "tags": []
   },
   "outputs": [
    {
     "data": {
      "text/html": [
       "<div>\n",
       "<style scoped>\n",
       "    .dataframe tbody tr th:only-of-type {\n",
       "        vertical-align: middle;\n",
       "    }\n",
       "\n",
       "    .dataframe tbody tr th {\n",
       "        vertical-align: top;\n",
       "    }\n",
       "\n",
       "    .dataframe thead th {\n",
       "        text-align: right;\n",
       "    }\n",
       "</style>\n",
       "<table border=\"1\" class=\"dataframe\">\n",
       "  <thead>\n",
       "    <tr style=\"text-align: right;\">\n",
       "      <th></th>\n",
       "      <th>target</th>\n",
       "      <th>message</th>\n",
       "    </tr>\n",
       "  </thead>\n",
       "  <tbody>\n",
       "    <tr>\n",
       "      <th>count</th>\n",
       "      <td>5572</td>\n",
       "      <td>5572</td>\n",
       "    </tr>\n",
       "    <tr>\n",
       "      <th>unique</th>\n",
       "      <td>2</td>\n",
       "      <td>5169</td>\n",
       "    </tr>\n",
       "    <tr>\n",
       "      <th>top</th>\n",
       "      <td>ham</td>\n",
       "      <td>Sorry, I'll call later</td>\n",
       "    </tr>\n",
       "    <tr>\n",
       "      <th>freq</th>\n",
       "      <td>4825</td>\n",
       "      <td>30</td>\n",
       "    </tr>\n",
       "  </tbody>\n",
       "</table>\n",
       "</div>"
      ],
      "text/plain": [
       "       target                 message\n",
       "count    5572                    5572\n",
       "unique      2                    5169\n",
       "top       ham  Sorry, I'll call later\n",
       "freq     4825                      30"
      ]
     },
     "execution_count": 5,
     "metadata": {},
     "output_type": "execute_result"
    }
   ],
   "source": [
    "df.describe()"
   ]
  },
  {
   "cell_type": "markdown",
   "id": "25623a30",
   "metadata": {
    "papermill": {
     "duration": 0.004486,
     "end_time": "2025-01-04T03:18:33.758832",
     "exception": false,
     "start_time": "2025-01-04T03:18:33.754346",
     "status": "completed"
    },
    "tags": []
   },
   "source": [
    "# EDA"
   ]
  },
  {
   "cell_type": "code",
   "execution_count": 6,
   "id": "56ae487d",
   "metadata": {
    "execution": {
     "iopub.execute_input": "2025-01-04T03:18:33.769044Z",
     "iopub.status.busy": "2025-01-04T03:18:33.768660Z",
     "iopub.status.idle": "2025-01-04T03:18:33.787253Z",
     "shell.execute_reply": "2025-01-04T03:18:33.786288Z"
    },
    "papermill": {
     "duration": 0.025335,
     "end_time": "2025-01-04T03:18:33.788718",
     "exception": false,
     "start_time": "2025-01-04T03:18:33.763383",
     "status": "completed"
    },
    "tags": []
   },
   "outputs": [
    {
     "data": {
      "text/html": [
       "<div>\n",
       "<style scoped>\n",
       "    .dataframe tbody tr th:only-of-type {\n",
       "        vertical-align: middle;\n",
       "    }\n",
       "\n",
       "    .dataframe tbody tr th {\n",
       "        vertical-align: top;\n",
       "    }\n",
       "\n",
       "    .dataframe thead th {\n",
       "        text-align: right;\n",
       "    }\n",
       "</style>\n",
       "<table border=\"1\" class=\"dataframe\">\n",
       "  <thead>\n",
       "    <tr style=\"text-align: right;\">\n",
       "      <th></th>\n",
       "      <th>target</th>\n",
       "      <th>message</th>\n",
       "      <th>words_count</th>\n",
       "      <th>message_len</th>\n",
       "    </tr>\n",
       "  </thead>\n",
       "  <tbody>\n",
       "    <tr>\n",
       "      <th>0</th>\n",
       "      <td>ham</td>\n",
       "      <td>Go until jurong point, crazy.. Available only ...</td>\n",
       "      <td>20</td>\n",
       "      <td>111</td>\n",
       "    </tr>\n",
       "    <tr>\n",
       "      <th>1</th>\n",
       "      <td>ham</td>\n",
       "      <td>Ok lar... Joking wif u oni...</td>\n",
       "      <td>6</td>\n",
       "      <td>29</td>\n",
       "    </tr>\n",
       "    <tr>\n",
       "      <th>2</th>\n",
       "      <td>spam</td>\n",
       "      <td>Free entry in 2 a wkly comp to win FA Cup fina...</td>\n",
       "      <td>28</td>\n",
       "      <td>155</td>\n",
       "    </tr>\n",
       "    <tr>\n",
       "      <th>3</th>\n",
       "      <td>ham</td>\n",
       "      <td>U dun say so early hor... U c already then say...</td>\n",
       "      <td>11</td>\n",
       "      <td>49</td>\n",
       "    </tr>\n",
       "    <tr>\n",
       "      <th>4</th>\n",
       "      <td>ham</td>\n",
       "      <td>Nah I don't think he goes to usf, he lives aro...</td>\n",
       "      <td>13</td>\n",
       "      <td>61</td>\n",
       "    </tr>\n",
       "  </tbody>\n",
       "</table>\n",
       "</div>"
      ],
      "text/plain": [
       "  target                                            message  words_count  \\\n",
       "0    ham  Go until jurong point, crazy.. Available only ...           20   \n",
       "1    ham                      Ok lar... Joking wif u oni...            6   \n",
       "2   spam  Free entry in 2 a wkly comp to win FA Cup fina...           28   \n",
       "3    ham  U dun say so early hor... U c already then say...           11   \n",
       "4    ham  Nah I don't think he goes to usf, he lives aro...           13   \n",
       "\n",
       "   message_len  \n",
       "0          111  \n",
       "1           29  \n",
       "2          155  \n",
       "3           49  \n",
       "4           61  "
      ]
     },
     "execution_count": 6,
     "metadata": {},
     "output_type": "execute_result"
    }
   ],
   "source": [
    "df['words_count'] = df['message'].apply(lambda x: len(x.split(' ')))\n",
    "df['message_len'] = df['message'].apply(len)\n",
    "df.head()"
   ]
  },
  {
   "cell_type": "code",
   "execution_count": 7,
   "id": "3d4be08c",
   "metadata": {
    "execution": {
     "iopub.execute_input": "2025-01-04T03:18:33.801033Z",
     "iopub.status.busy": "2025-01-04T03:18:33.800690Z",
     "iopub.status.idle": "2025-01-04T03:18:33.806437Z",
     "shell.execute_reply": "2025-01-04T03:18:33.805622Z"
    },
    "papermill": {
     "duration": 0.012965,
     "end_time": "2025-01-04T03:18:33.808001",
     "exception": false,
     "start_time": "2025-01-04T03:18:33.795036",
     "status": "completed"
    },
    "tags": []
   },
   "outputs": [
    {
     "data": {
      "text/plain": [
       "910"
      ]
     },
     "execution_count": 7,
     "metadata": {},
     "output_type": "execute_result"
    }
   ],
   "source": [
    "max(df[\"message_len\"])"
   ]
  },
  {
   "cell_type": "code",
   "execution_count": 8,
   "id": "afaa1945",
   "metadata": {
    "execution": {
     "iopub.execute_input": "2025-01-04T03:18:33.819411Z",
     "iopub.status.busy": "2025-01-04T03:18:33.819017Z",
     "iopub.status.idle": "2025-01-04T03:18:33.835744Z",
     "shell.execute_reply": "2025-01-04T03:18:33.834841Z"
    },
    "papermill": {
     "duration": 0.02443,
     "end_time": "2025-01-04T03:18:33.837567",
     "exception": false,
     "start_time": "2025-01-04T03:18:33.813137",
     "status": "completed"
    },
    "tags": []
   },
   "outputs": [
    {
     "data": {
      "text/html": [
       "<div>\n",
       "<style scoped>\n",
       "    .dataframe tbody tr th:only-of-type {\n",
       "        vertical-align: middle;\n",
       "    }\n",
       "\n",
       "    .dataframe tbody tr th {\n",
       "        vertical-align: top;\n",
       "    }\n",
       "\n",
       "    .dataframe thead th {\n",
       "        text-align: right;\n",
       "    }\n",
       "</style>\n",
       "<table border=\"1\" class=\"dataframe\">\n",
       "  <thead>\n",
       "    <tr style=\"text-align: right;\">\n",
       "      <th></th>\n",
       "      <th>words_count</th>\n",
       "      <th>message_len</th>\n",
       "    </tr>\n",
       "  </thead>\n",
       "  <tbody>\n",
       "    <tr>\n",
       "      <th>count</th>\n",
       "      <td>5572.000000</td>\n",
       "      <td>5572.000000</td>\n",
       "    </tr>\n",
       "    <tr>\n",
       "      <th>mean</th>\n",
       "      <td>15.606784</td>\n",
       "      <td>80.118808</td>\n",
       "    </tr>\n",
       "    <tr>\n",
       "      <th>std</th>\n",
       "      <td>11.422465</td>\n",
       "      <td>59.690841</td>\n",
       "    </tr>\n",
       "    <tr>\n",
       "      <th>min</th>\n",
       "      <td>1.000000</td>\n",
       "      <td>2.000000</td>\n",
       "    </tr>\n",
       "    <tr>\n",
       "      <th>25%</th>\n",
       "      <td>7.000000</td>\n",
       "      <td>36.000000</td>\n",
       "    </tr>\n",
       "    <tr>\n",
       "      <th>50%</th>\n",
       "      <td>12.000000</td>\n",
       "      <td>61.000000</td>\n",
       "    </tr>\n",
       "    <tr>\n",
       "      <th>75%</th>\n",
       "      <td>23.000000</td>\n",
       "      <td>121.000000</td>\n",
       "    </tr>\n",
       "    <tr>\n",
       "      <th>max</th>\n",
       "      <td>171.000000</td>\n",
       "      <td>910.000000</td>\n",
       "    </tr>\n",
       "  </tbody>\n",
       "</table>\n",
       "</div>"
      ],
      "text/plain": [
       "       words_count  message_len\n",
       "count  5572.000000  5572.000000\n",
       "mean     15.606784    80.118808\n",
       "std      11.422465    59.690841\n",
       "min       1.000000     2.000000\n",
       "25%       7.000000    36.000000\n",
       "50%      12.000000    61.000000\n",
       "75%      23.000000   121.000000\n",
       "max     171.000000   910.000000"
      ]
     },
     "execution_count": 8,
     "metadata": {},
     "output_type": "execute_result"
    }
   ],
   "source": [
    "df.describe()"
   ]
  },
  {
   "cell_type": "code",
   "execution_count": 9,
   "id": "c4476b07",
   "metadata": {
    "execution": {
     "iopub.execute_input": "2025-01-04T03:18:33.849766Z",
     "iopub.status.busy": "2025-01-04T03:18:33.849411Z",
     "iopub.status.idle": "2025-01-04T03:18:33.859233Z",
     "shell.execute_reply": "2025-01-04T03:18:33.858274Z"
    },
    "papermill": {
     "duration": 0.017483,
     "end_time": "2025-01-04T03:18:33.860790",
     "exception": false,
     "start_time": "2025-01-04T03:18:33.843307",
     "status": "completed"
    },
    "tags": []
   },
   "outputs": [
    {
     "data": {
      "text/plain": [
       "array([4825,  747])"
      ]
     },
     "execution_count": 9,
     "metadata": {},
     "output_type": "execute_result"
    }
   ],
   "source": [
    "balance_counts = df.groupby('target')['target'].agg('count').values\n",
    "balance_counts"
   ]
  },
  {
   "cell_type": "code",
   "execution_count": 10,
   "id": "2be4c72d",
   "metadata": {
    "execution": {
     "iopub.execute_input": "2025-01-04T03:18:33.872156Z",
     "iopub.status.busy": "2025-01-04T03:18:33.871843Z",
     "iopub.status.idle": "2025-01-04T03:18:33.883923Z",
     "shell.execute_reply": "2025-01-04T03:18:33.883137Z"
    },
    "papermill": {
     "duration": 0.019586,
     "end_time": "2025-01-04T03:18:33.885666",
     "exception": false,
     "start_time": "2025-01-04T03:18:33.866080",
     "status": "completed"
    },
    "tags": []
   },
   "outputs": [],
   "source": [
    "ham_df = df[df['target']==\"ham\"][\"message_len\"].value_counts().sort_index()\n",
    "spam_df = df[df['target']==\"spam\"][\"message_len\"].value_counts().sort_index()"
   ]
  },
  {
   "cell_type": "code",
   "execution_count": 11,
   "id": "c8c33a9e",
   "metadata": {
    "execution": {
     "iopub.execute_input": "2025-01-04T03:18:33.897374Z",
     "iopub.status.busy": "2025-01-04T03:18:33.897071Z",
     "iopub.status.idle": "2025-01-04T03:18:33.901817Z",
     "shell.execute_reply": "2025-01-04T03:18:33.900751Z"
    },
    "papermill": {
     "duration": 0.012261,
     "end_time": "2025-01-04T03:18:33.903351",
     "exception": false,
     "start_time": "2025-01-04T03:18:33.891090",
     "status": "completed"
    },
    "tags": []
   },
   "outputs": [
    {
     "name": "stdout",
     "output_type": "stream",
     "text": [
      "272\n",
      "123\n"
     ]
    }
   ],
   "source": [
    "print(ham_df.count())\n",
    "print(ham_df.max())"
   ]
  },
  {
   "cell_type": "code",
   "execution_count": 12,
   "id": "e7b93cef",
   "metadata": {
    "execution": {
     "iopub.execute_input": "2025-01-04T03:18:33.914686Z",
     "iopub.status.busy": "2025-01-04T03:18:33.914396Z",
     "iopub.status.idle": "2025-01-04T03:18:33.919855Z",
     "shell.execute_reply": "2025-01-04T03:18:33.918465Z"
    },
    "papermill": {
     "duration": 0.012791,
     "end_time": "2025-01-04T03:18:33.921356",
     "exception": false,
     "start_time": "2025-01-04T03:18:33.908565",
     "status": "completed"
    },
    "tags": []
   },
   "outputs": [
    {
     "name": "stdout",
     "output_type": "stream",
     "text": [
      "122\n",
      "39\n"
     ]
    }
   ],
   "source": [
    "print(spam_df.count())\n",
    "print(spam_df.max())"
   ]
  },
  {
   "cell_type": "code",
   "execution_count": 13,
   "id": "892c99b3",
   "metadata": {
    "execution": {
     "iopub.execute_input": "2025-01-04T03:18:33.932898Z",
     "iopub.status.busy": "2025-01-04T03:18:33.932591Z",
     "iopub.status.idle": "2025-01-04T03:18:33.945278Z",
     "shell.execute_reply": "2025-01-04T03:18:33.944362Z"
    },
    "papermill": {
     "duration": 0.020036,
     "end_time": "2025-01-04T03:18:33.946650",
     "exception": false,
     "start_time": "2025-01-04T03:18:33.926614",
     "status": "completed"
    },
    "tags": []
   },
   "outputs": [
    {
     "data": {
      "text/html": [
       "<div>\n",
       "<style scoped>\n",
       "    .dataframe tbody tr th:only-of-type {\n",
       "        vertical-align: middle;\n",
       "    }\n",
       "\n",
       "    .dataframe tbody tr th {\n",
       "        vertical-align: top;\n",
       "    }\n",
       "\n",
       "    .dataframe thead th {\n",
       "        text-align: right;\n",
       "    }\n",
       "</style>\n",
       "<table border=\"1\" class=\"dataframe\">\n",
       "  <thead>\n",
       "    <tr style=\"text-align: right;\">\n",
       "      <th></th>\n",
       "      <th>count</th>\n",
       "      <th>count</th>\n",
       "    </tr>\n",
       "    <tr>\n",
       "      <th>message_len</th>\n",
       "      <th></th>\n",
       "      <th></th>\n",
       "    </tr>\n",
       "  </thead>\n",
       "  <tbody>\n",
       "    <tr>\n",
       "      <th>2</th>\n",
       "      <td>4.0</td>\n",
       "      <td>NaN</td>\n",
       "    </tr>\n",
       "    <tr>\n",
       "      <th>3</th>\n",
       "      <td>9.0</td>\n",
       "      <td>NaN</td>\n",
       "    </tr>\n",
       "    <tr>\n",
       "      <th>4</th>\n",
       "      <td>6.0</td>\n",
       "      <td>NaN</td>\n",
       "    </tr>\n",
       "    <tr>\n",
       "      <th>5</th>\n",
       "      <td>11.0</td>\n",
       "      <td>NaN</td>\n",
       "    </tr>\n",
       "    <tr>\n",
       "      <th>6</th>\n",
       "      <td>3.0</td>\n",
       "      <td>NaN</td>\n",
       "    </tr>\n",
       "    <tr>\n",
       "      <th>...</th>\n",
       "      <td>...</td>\n",
       "      <td>...</td>\n",
       "    </tr>\n",
       "    <tr>\n",
       "      <th>632</th>\n",
       "      <td>1.0</td>\n",
       "      <td>NaN</td>\n",
       "    </tr>\n",
       "    <tr>\n",
       "      <th>790</th>\n",
       "      <td>1.0</td>\n",
       "      <td>NaN</td>\n",
       "    </tr>\n",
       "    <tr>\n",
       "      <th>910</th>\n",
       "      <td>1.0</td>\n",
       "      <td>NaN</td>\n",
       "    </tr>\n",
       "    <tr>\n",
       "      <th>170</th>\n",
       "      <td>NaN</td>\n",
       "      <td>2.0</td>\n",
       "    </tr>\n",
       "    <tr>\n",
       "      <th>197</th>\n",
       "      <td>NaN</td>\n",
       "      <td>1.0</td>\n",
       "    </tr>\n",
       "  </tbody>\n",
       "</table>\n",
       "<p>274 rows × 2 columns</p>\n",
       "</div>"
      ],
      "text/plain": [
       "             count  count\n",
       "message_len              \n",
       "2              4.0    NaN\n",
       "3              9.0    NaN\n",
       "4              6.0    NaN\n",
       "5             11.0    NaN\n",
       "6              3.0    NaN\n",
       "...            ...    ...\n",
       "632            1.0    NaN\n",
       "790            1.0    NaN\n",
       "910            1.0    NaN\n",
       "170            NaN    2.0\n",
       "197            NaN    1.0\n",
       "\n",
       "[274 rows x 2 columns]"
      ]
     },
     "execution_count": 13,
     "metadata": {},
     "output_type": "execute_result"
    }
   ],
   "source": [
    "concat = pd.concat([ham_df,spam_df], axis=1)\n",
    "concat"
   ]
  },
  {
   "cell_type": "code",
   "execution_count": 14,
   "id": "80f1d3f9",
   "metadata": {
    "execution": {
     "iopub.execute_input": "2025-01-04T03:18:33.958600Z",
     "iopub.status.busy": "2025-01-04T03:18:33.958303Z",
     "iopub.status.idle": "2025-01-04T03:18:34.267432Z",
     "shell.execute_reply": "2025-01-04T03:18:34.266495Z"
    },
    "papermill": {
     "duration": 0.316752,
     "end_time": "2025-01-04T03:18:34.268991",
     "exception": false,
     "start_time": "2025-01-04T03:18:33.952239",
     "status": "completed"
    },
    "tags": []
   },
   "outputs": [
    {
     "data": {
      "text/html": [
       "<html>\n",
       "<head><meta charset=\"utf-8\" /></head>\n",
       "<body>\n",
       "    <div>            <script src=\"https://cdnjs.cloudflare.com/ajax/libs/mathjax/2.7.5/MathJax.js?config=TeX-AMS-MML_SVG\"></script><script type=\"text/javascript\">if (window.MathJax && window.MathJax.Hub && window.MathJax.Hub.Config) {window.MathJax.Hub.Config({SVG: {font: \"STIX-Web\"}});}</script>                <script type=\"text/javascript\">window.PlotlyConfig = {MathJaxConfig: 'local'};</script>\n",
       "        <script charset=\"utf-8\" src=\"https://cdn.plot.ly/plotly-2.35.2.min.js\"></script>                <div id=\"86ed861b-7d88-4beb-a15e-d68d0db4e6f7\" class=\"plotly-graph-div\" style=\"height:525px; width:100%;\"></div>            <script type=\"text/javascript\">                                    window.PLOTLYENV=window.PLOTLYENV || {};                                    if (document.getElementById(\"86ed861b-7d88-4beb-a15e-d68d0db4e6f7\")) {                    Plotly.newPlot(                        \"86ed861b-7d88-4beb-a15e-d68d0db4e6f7\",                        [{\"fill\":\"tozeroy\",\"marker\":{\"color\":\"#496595\"},\"name\":\"ham\",\"x\":[2,3,4,5,6,7,8,9,10,11,12,13,14,15,16,17,18,19,20,21,22,23,24,25,26,27,28,29,30,31,32,33,34,35,36,37,38,39,40,41,42,43,44,45,46,47,48,49,50,51,52,53,54,55,56,57,58,59,60,61,62,63,64,65,66,67,68,69,70,71,72,73,74,75,76,77,78,79,80,81,82,83,84,85,86,87,88,89,90,91,92,93,94,95,96,97,98,99,100,101,102,103,104,105,106,107,108,109,110,111,112,113,114,115,116,117,118,119,120,121,122,123,124,125,126,127,128,129,130,131,132,133,134,135,136,137,138,139,140,141,142,143,144,145,146,147,148,149,150,151,152,153,154,155,156,157,158,159,160,161,162,163,164,165,166,167,168,169,171,172,173,174,175,176,177,179,180,181,183,184,185,188,189,190,191,192,193,194,195,196,198,200,201,202,203,204,205,207,208,210,212,215,220,221,224,226,228,229,230,231,232,234,235,236,237,240,242,243,244,245,247,248,251,255,256,257,263,269,273,274,276,278,281,283,287,289,290,291,293,295,297,298,299,300,302,306,320,322,327,329,332,338,363,368,372,375,381,382,384,408,415,431,444,450,458,461,482,588,611,632,790,910],\"y\":[4,9,6,11,3,10,5,10,4,7,4,11,11,13,5,14,10,17,10,19,123,94,100,81,87,77,84,82,78,78,96,72,78,71,76,77,84,61,71,62,64,54,52,67,68,58,52,49,46,66,40,47,54,46,32,28,39,38,29,31,36,40,25,37,41,36,20,30,36,27,29,43,28,27,27,34,20,19,28,19,30,19,34,30,22,26,23,21,15,15,22,13,17,20,20,15,11,15,7,15,11,14,20,12,14,18,11,11,14,14,15,12,16,16,12,10,9,16,12,19,10,8,15,14,23,13,6,15,9,14,11,17,11,12,14,8,10,13,9,14,19,13,10,11,11,13,16,16,12,11,17,20,23,20,21,16,25,19,25,3,9,7,3,4,10,2,4,8,2,3,1,3,4,2,1,7,4,1,5,3,2,1,3,1,3,1,2,1,2,1,2,2,2,3,1,2,3,1,1,1,2,1,2,2,1,1,1,1,1,1,1,1,1,1,3,1,1,1,2,2,1,1,1,1,1,1,2,2,1,1,5,3,4,1,1,1,1,1,1,1,1,1,1,1,1,1,1,1,2,3,1,1,1,1,1,1,1,1,1,1,1,1,3,2,1,1,1,2,1,1,1,1],\"type\":\"scatter\"},{\"fill\":\"tozeroy\",\"marker\":{\"color\":\"#c6ccd8\"},\"name\":\"spam\",\"x\":[13,18,25,30,33,37,40,41,42,44,47,48,49,50,51,52,59,63,64,65,66,68,69,70,71,72,73,74,78,80,81,82,83,84,85,86,89,90,91,95,96,97,99,100,101,102,104,105,106,107,108,109,110,111,112,114,115,116,117,118,119,120,121,122,123,124,125,126,127,128,129,130,131,132,133,134,135,136,137,138,139,140,141,142,143,144,145,146,147,148,149,150,151,152,153,154,155,156,157,158,159,160,161,162,163,164,165,166,167,168,169,170,172,173,174,175,177,179,181,183,197,224],\"y\":[1,1,1,1,3,1,1,1,2,1,3,2,2,2,1,1,1,1,1,2,1,1,2,3,2,3,3,3,1,1,4,1,1,1,1,3,2,3,1,2,3,1,1,3,7,2,2,3,5,3,1,5,1,5,4,6,3,1,1,1,1,8,4,5,2,4,3,5,5,3,3,4,2,12,6,10,10,11,15,5,9,9,6,6,18,11,12,14,17,14,20,12,9,20,27,19,29,34,31,35,39,34,25,15,10,5,2,3,2,1,1,2,1,2,1,1,1,1,2,1,1,1],\"type\":\"scatter\"}],                        {\"template\":{\"data\":{\"histogram2dcontour\":[{\"type\":\"histogram2dcontour\",\"colorbar\":{\"outlinewidth\":0,\"ticks\":\"\"},\"colorscale\":[[0.0,\"#0d0887\"],[0.1111111111111111,\"#46039f\"],[0.2222222222222222,\"#7201a8\"],[0.3333333333333333,\"#9c179e\"],[0.4444444444444444,\"#bd3786\"],[0.5555555555555556,\"#d8576b\"],[0.6666666666666666,\"#ed7953\"],[0.7777777777777778,\"#fb9f3a\"],[0.8888888888888888,\"#fdca26\"],[1.0,\"#f0f921\"]]}],\"choropleth\":[{\"type\":\"choropleth\",\"colorbar\":{\"outlinewidth\":0,\"ticks\":\"\"}}],\"histogram2d\":[{\"type\":\"histogram2d\",\"colorbar\":{\"outlinewidth\":0,\"ticks\":\"\"},\"colorscale\":[[0.0,\"#0d0887\"],[0.1111111111111111,\"#46039f\"],[0.2222222222222222,\"#7201a8\"],[0.3333333333333333,\"#9c179e\"],[0.4444444444444444,\"#bd3786\"],[0.5555555555555556,\"#d8576b\"],[0.6666666666666666,\"#ed7953\"],[0.7777777777777778,\"#fb9f3a\"],[0.8888888888888888,\"#fdca26\"],[1.0,\"#f0f921\"]]}],\"heatmap\":[{\"type\":\"heatmap\",\"colorbar\":{\"outlinewidth\":0,\"ticks\":\"\"},\"colorscale\":[[0.0,\"#0d0887\"],[0.1111111111111111,\"#46039f\"],[0.2222222222222222,\"#7201a8\"],[0.3333333333333333,\"#9c179e\"],[0.4444444444444444,\"#bd3786\"],[0.5555555555555556,\"#d8576b\"],[0.6666666666666666,\"#ed7953\"],[0.7777777777777778,\"#fb9f3a\"],[0.8888888888888888,\"#fdca26\"],[1.0,\"#f0f921\"]]}],\"heatmapgl\":[{\"type\":\"heatmapgl\",\"colorbar\":{\"outlinewidth\":0,\"ticks\":\"\"},\"colorscale\":[[0.0,\"#0d0887\"],[0.1111111111111111,\"#46039f\"],[0.2222222222222222,\"#7201a8\"],[0.3333333333333333,\"#9c179e\"],[0.4444444444444444,\"#bd3786\"],[0.5555555555555556,\"#d8576b\"],[0.6666666666666666,\"#ed7953\"],[0.7777777777777778,\"#fb9f3a\"],[0.8888888888888888,\"#fdca26\"],[1.0,\"#f0f921\"]]}],\"contourcarpet\":[{\"type\":\"contourcarpet\",\"colorbar\":{\"outlinewidth\":0,\"ticks\":\"\"}}],\"contour\":[{\"type\":\"contour\",\"colorbar\":{\"outlinewidth\":0,\"ticks\":\"\"},\"colorscale\":[[0.0,\"#0d0887\"],[0.1111111111111111,\"#46039f\"],[0.2222222222222222,\"#7201a8\"],[0.3333333333333333,\"#9c179e\"],[0.4444444444444444,\"#bd3786\"],[0.5555555555555556,\"#d8576b\"],[0.6666666666666666,\"#ed7953\"],[0.7777777777777778,\"#fb9f3a\"],[0.8888888888888888,\"#fdca26\"],[1.0,\"#f0f921\"]]}],\"surface\":[{\"type\":\"surface\",\"colorbar\":{\"outlinewidth\":0,\"ticks\":\"\"},\"colorscale\":[[0.0,\"#0d0887\"],[0.1111111111111111,\"#46039f\"],[0.2222222222222222,\"#7201a8\"],[0.3333333333333333,\"#9c179e\"],[0.4444444444444444,\"#bd3786\"],[0.5555555555555556,\"#d8576b\"],[0.6666666666666666,\"#ed7953\"],[0.7777777777777778,\"#fb9f3a\"],[0.8888888888888888,\"#fdca26\"],[1.0,\"#f0f921\"]]}],\"mesh3d\":[{\"type\":\"mesh3d\",\"colorbar\":{\"outlinewidth\":0,\"ticks\":\"\"}}],\"scatter\":[{\"fillpattern\":{\"fillmode\":\"overlay\",\"size\":10,\"solidity\":0.2},\"type\":\"scatter\"}],\"parcoords\":[{\"type\":\"parcoords\",\"line\":{\"colorbar\":{\"outlinewidth\":0,\"ticks\":\"\"}}}],\"scatterpolargl\":[{\"type\":\"scatterpolargl\",\"marker\":{\"colorbar\":{\"outlinewidth\":0,\"ticks\":\"\"}}}],\"bar\":[{\"error_x\":{\"color\":\"#2a3f5f\"},\"error_y\":{\"color\":\"#2a3f5f\"},\"marker\":{\"line\":{\"color\":\"#E5ECF6\",\"width\":0.5},\"pattern\":{\"fillmode\":\"overlay\",\"size\":10,\"solidity\":0.2}},\"type\":\"bar\"}],\"scattergeo\":[{\"type\":\"scattergeo\",\"marker\":{\"colorbar\":{\"outlinewidth\":0,\"ticks\":\"\"}}}],\"scatterpolar\":[{\"type\":\"scatterpolar\",\"marker\":{\"colorbar\":{\"outlinewidth\":0,\"ticks\":\"\"}}}],\"histogram\":[{\"marker\":{\"pattern\":{\"fillmode\":\"overlay\",\"size\":10,\"solidity\":0.2}},\"type\":\"histogram\"}],\"scattergl\":[{\"type\":\"scattergl\",\"marker\":{\"colorbar\":{\"outlinewidth\":0,\"ticks\":\"\"}}}],\"scatter3d\":[{\"type\":\"scatter3d\",\"line\":{\"colorbar\":{\"outlinewidth\":0,\"ticks\":\"\"}},\"marker\":{\"colorbar\":{\"outlinewidth\":0,\"ticks\":\"\"}}}],\"scattermapbox\":[{\"type\":\"scattermapbox\",\"marker\":{\"colorbar\":{\"outlinewidth\":0,\"ticks\":\"\"}}}],\"scatterternary\":[{\"type\":\"scatterternary\",\"marker\":{\"colorbar\":{\"outlinewidth\":0,\"ticks\":\"\"}}}],\"scattercarpet\":[{\"type\":\"scattercarpet\",\"marker\":{\"colorbar\":{\"outlinewidth\":0,\"ticks\":\"\"}}}],\"carpet\":[{\"aaxis\":{\"endlinecolor\":\"#2a3f5f\",\"gridcolor\":\"white\",\"linecolor\":\"white\",\"minorgridcolor\":\"white\",\"startlinecolor\":\"#2a3f5f\"},\"baxis\":{\"endlinecolor\":\"#2a3f5f\",\"gridcolor\":\"white\",\"linecolor\":\"white\",\"minorgridcolor\":\"white\",\"startlinecolor\":\"#2a3f5f\"},\"type\":\"carpet\"}],\"table\":[{\"cells\":{\"fill\":{\"color\":\"#EBF0F8\"},\"line\":{\"color\":\"white\"}},\"header\":{\"fill\":{\"color\":\"#C8D4E3\"},\"line\":{\"color\":\"white\"}},\"type\":\"table\"}],\"barpolar\":[{\"marker\":{\"line\":{\"color\":\"#E5ECF6\",\"width\":0.5},\"pattern\":{\"fillmode\":\"overlay\",\"size\":10,\"solidity\":0.2}},\"type\":\"barpolar\"}],\"pie\":[{\"automargin\":true,\"type\":\"pie\"}]},\"layout\":{\"autotypenumbers\":\"strict\",\"colorway\":[\"#636efa\",\"#EF553B\",\"#00cc96\",\"#ab63fa\",\"#FFA15A\",\"#19d3f3\",\"#FF6692\",\"#B6E880\",\"#FF97FF\",\"#FECB52\"],\"font\":{\"color\":\"#2a3f5f\"},\"hovermode\":\"closest\",\"hoverlabel\":{\"align\":\"left\"},\"paper_bgcolor\":\"white\",\"plot_bgcolor\":\"#E5ECF6\",\"polar\":{\"bgcolor\":\"#E5ECF6\",\"angularaxis\":{\"gridcolor\":\"white\",\"linecolor\":\"white\",\"ticks\":\"\"},\"radialaxis\":{\"gridcolor\":\"white\",\"linecolor\":\"white\",\"ticks\":\"\"}},\"ternary\":{\"bgcolor\":\"#E5ECF6\",\"aaxis\":{\"gridcolor\":\"white\",\"linecolor\":\"white\",\"ticks\":\"\"},\"baxis\":{\"gridcolor\":\"white\",\"linecolor\":\"white\",\"ticks\":\"\"},\"caxis\":{\"gridcolor\":\"white\",\"linecolor\":\"white\",\"ticks\":\"\"}},\"coloraxis\":{\"colorbar\":{\"outlinewidth\":0,\"ticks\":\"\"}},\"colorscale\":{\"sequential\":[[0.0,\"#0d0887\"],[0.1111111111111111,\"#46039f\"],[0.2222222222222222,\"#7201a8\"],[0.3333333333333333,\"#9c179e\"],[0.4444444444444444,\"#bd3786\"],[0.5555555555555556,\"#d8576b\"],[0.6666666666666666,\"#ed7953\"],[0.7777777777777778,\"#fb9f3a\"],[0.8888888888888888,\"#fdca26\"],[1.0,\"#f0f921\"]],\"sequentialminus\":[[0.0,\"#0d0887\"],[0.1111111111111111,\"#46039f\"],[0.2222222222222222,\"#7201a8\"],[0.3333333333333333,\"#9c179e\"],[0.4444444444444444,\"#bd3786\"],[0.5555555555555556,\"#d8576b\"],[0.6666666666666666,\"#ed7953\"],[0.7777777777777778,\"#fb9f3a\"],[0.8888888888888888,\"#fdca26\"],[1.0,\"#f0f921\"]],\"diverging\":[[0,\"#8e0152\"],[0.1,\"#c51b7d\"],[0.2,\"#de77ae\"],[0.3,\"#f1b6da\"],[0.4,\"#fde0ef\"],[0.5,\"#f7f7f7\"],[0.6,\"#e6f5d0\"],[0.7,\"#b8e186\"],[0.8,\"#7fbc41\"],[0.9,\"#4d9221\"],[1,\"#276419\"]]},\"xaxis\":{\"gridcolor\":\"white\",\"linecolor\":\"white\",\"ticks\":\"\",\"title\":{\"standoff\":15},\"zerolinecolor\":\"white\",\"automargin\":true,\"zerolinewidth\":2},\"yaxis\":{\"gridcolor\":\"white\",\"linecolor\":\"white\",\"ticks\":\"\",\"title\":{\"standoff\":15},\"zerolinecolor\":\"white\",\"automargin\":true,\"zerolinewidth\":2},\"scene\":{\"xaxis\":{\"backgroundcolor\":\"#E5ECF6\",\"gridcolor\":\"white\",\"linecolor\":\"white\",\"showbackground\":true,\"ticks\":\"\",\"zerolinecolor\":\"white\",\"gridwidth\":2},\"yaxis\":{\"backgroundcolor\":\"#E5ECF6\",\"gridcolor\":\"white\",\"linecolor\":\"white\",\"showbackground\":true,\"ticks\":\"\",\"zerolinecolor\":\"white\",\"gridwidth\":2},\"zaxis\":{\"backgroundcolor\":\"#E5ECF6\",\"gridcolor\":\"white\",\"linecolor\":\"white\",\"showbackground\":true,\"ticks\":\"\",\"zerolinecolor\":\"white\",\"gridwidth\":2}},\"shapedefaults\":{\"line\":{\"color\":\"#2a3f5f\"}},\"annotationdefaults\":{\"arrowcolor\":\"#2a3f5f\",\"arrowhead\":0,\"arrowwidth\":1},\"geo\":{\"bgcolor\":\"white\",\"landcolor\":\"#E5ECF6\",\"subunitcolor\":\"white\",\"showland\":true,\"showlakes\":true,\"lakecolor\":\"white\"},\"title\":{\"x\":0.05},\"mapbox\":{\"style\":\"light\"}}},\"title\":{\"text\":\"\\u003cspan style=\\\"font-size:32px; font-family:Times New Roman\\\"\\u003eData Roles in Different Fields\\u003c\\u002fspan\\u003e\"},\"xaxis\":{\"range\":[0,70]}},                        {\"responsive\": true}                    ).then(function(){\n",
       "                            \n",
       "var gd = document.getElementById('86ed861b-7d88-4beb-a15e-d68d0db4e6f7');\n",
       "var x = new MutationObserver(function (mutations, observer) {{\n",
       "        var display = window.getComputedStyle(gd).display;\n",
       "        if (!display || display === 'none') {{\n",
       "            console.log([gd, 'removed!']);\n",
       "            Plotly.purge(gd);\n",
       "            observer.disconnect();\n",
       "        }}\n",
       "}});\n",
       "\n",
       "// Listen for the removal of the full notebook cells\n",
       "var notebookContainer = gd.closest('#notebook-container');\n",
       "if (notebookContainer) {{\n",
       "    x.observe(notebookContainer, {childList: true});\n",
       "}}\n",
       "\n",
       "// Listen for the clearing of the current output cell\n",
       "var outputEl = gd.closest('.output');\n",
       "if (outputEl) {{\n",
       "    x.observe(outputEl, {childList: true});\n",
       "}}\n",
       "\n",
       "                        })                };                            </script>        </div>\n",
       "</body>\n",
       "</html>"
      ]
     },
     "metadata": {},
     "output_type": "display_data"
    }
   ],
   "source": [
    "fig = go.Figure()\n",
    "fig.add_trace(go.Scatter(\n",
    "    x = ham_df.index,\n",
    "    y = ham_df.values,\n",
    "    name='ham',\n",
    "    fill='tozeroy',\n",
    "    marker_color = primary_blue\n",
    "))\n",
    "fig.add_trace(go.Scatter(\n",
    "    x=spam_df.index,\n",
    "    y=spam_df.values,\n",
    "    name='spam',\n",
    "    fill='tozeroy',\n",
    "    marker_color=primary_grey,\n",
    "))\n",
    "fig.update_layout(\n",
    "    title='<span style=\"font-size:32px; font-family:Times New Roman\">Data Roles in Different Fields</span>'\n",
    ")\n",
    "fig.update_xaxes(range=[0, 70])\n",
    "fig.show()"
   ]
  },
  {
   "cell_type": "markdown",
   "id": "e5ef55d2",
   "metadata": {
    "papermill": {
     "duration": 0.005424,
     "end_time": "2025-01-04T03:18:34.280302",
     "exception": false,
     "start_time": "2025-01-04T03:18:34.274878",
     "status": "completed"
    },
    "tags": []
   },
   "source": [
    "# Data Pre-Processing"
   ]
  },
  {
   "cell_type": "markdown",
   "id": "0c179083",
   "metadata": {
    "papermill": {
     "duration": 0.005335,
     "end_time": "2025-01-04T03:18:34.291876",
     "exception": false,
     "start_time": "2025-01-04T03:18:34.286541",
     "status": "completed"
    },
    "tags": []
   },
   "source": [
    "## Cleaning"
   ]
  },
  {
   "cell_type": "code",
   "execution_count": 15,
   "id": "8d02797e",
   "metadata": {
    "execution": {
     "iopub.execute_input": "2025-01-04T03:18:34.304215Z",
     "iopub.status.busy": "2025-01-04T03:18:34.303841Z",
     "iopub.status.idle": "2025-01-04T03:18:34.309379Z",
     "shell.execute_reply": "2025-01-04T03:18:34.308568Z"
    },
    "papermill": {
     "duration": 0.013455,
     "end_time": "2025-01-04T03:18:34.310914",
     "exception": false,
     "start_time": "2025-01-04T03:18:34.297459",
     "status": "completed"
    },
    "tags": []
   },
   "outputs": [],
   "source": [
    "def clean_text(text):\n",
    "\n",
    "    STOPWORDS = stopwords.words('english') + ['u', 'ü', 'ur', '4', '2', 'im', 'dont', 'doin', 'ure','c']\n",
    "    text = str(text).lower()\n",
    "    text = re.sub('\\[.*?\\]','', text)\n",
    "    text = re.sub('https?://\\S+|www\\.\\S+', '',text)\n",
    "    text = re.sub('<.*?>+','',text)\n",
    "    text = re.sub('[%s]' % re.escape(string.punctuation), '', text)\n",
    "    text = re.sub('\\n','',text)\n",
    "    text = re.sub('\\w*\\d\\w*','',text)\n",
    "    text = ' '.join(word for word in text.split(' ') if word not in STOPWORDS)\n",
    "    return text"
   ]
  },
  {
   "cell_type": "code",
   "execution_count": 16,
   "id": "07706118",
   "metadata": {
    "execution": {
     "iopub.execute_input": "2025-01-04T03:18:34.323147Z",
     "iopub.status.busy": "2025-01-04T03:18:34.322836Z",
     "iopub.status.idle": "2025-01-04T03:18:35.319437Z",
     "shell.execute_reply": "2025-01-04T03:18:35.318380Z"
    },
    "papermill": {
     "duration": 1.00459,
     "end_time": "2025-01-04T03:18:35.321150",
     "exception": false,
     "start_time": "2025-01-04T03:18:34.316560",
     "status": "completed"
    },
    "tags": []
   },
   "outputs": [
    {
     "data": {
      "text/html": [
       "<div>\n",
       "<style scoped>\n",
       "    .dataframe tbody tr th:only-of-type {\n",
       "        vertical-align: middle;\n",
       "    }\n",
       "\n",
       "    .dataframe tbody tr th {\n",
       "        vertical-align: top;\n",
       "    }\n",
       "\n",
       "    .dataframe thead th {\n",
       "        text-align: right;\n",
       "    }\n",
       "</style>\n",
       "<table border=\"1\" class=\"dataframe\">\n",
       "  <thead>\n",
       "    <tr style=\"text-align: right;\">\n",
       "      <th></th>\n",
       "      <th>target</th>\n",
       "      <th>message</th>\n",
       "      <th>words_count</th>\n",
       "      <th>message_len</th>\n",
       "      <th>clean_message</th>\n",
       "      <th>clean_message_words_count</th>\n",
       "      <th>clean_message_len</th>\n",
       "    </tr>\n",
       "  </thead>\n",
       "  <tbody>\n",
       "    <tr>\n",
       "      <th>0</th>\n",
       "      <td>ham</td>\n",
       "      <td>Go until jurong point, crazy.. Available only ...</td>\n",
       "      <td>20</td>\n",
       "      <td>111</td>\n",
       "      <td>go jurong point crazy available bugis n great ...</td>\n",
       "      <td>16</td>\n",
       "      <td>82</td>\n",
       "    </tr>\n",
       "    <tr>\n",
       "      <th>1</th>\n",
       "      <td>ham</td>\n",
       "      <td>Ok lar... Joking wif u oni...</td>\n",
       "      <td>6</td>\n",
       "      <td>29</td>\n",
       "      <td>ok lar joking wif oni</td>\n",
       "      <td>5</td>\n",
       "      <td>21</td>\n",
       "    </tr>\n",
       "    <tr>\n",
       "      <th>2</th>\n",
       "      <td>spam</td>\n",
       "      <td>Free entry in 2 a wkly comp to win FA Cup fina...</td>\n",
       "      <td>28</td>\n",
       "      <td>155</td>\n",
       "      <td>free entry  wkly comp win fa cup final tkts  m...</td>\n",
       "      <td>23</td>\n",
       "      <td>103</td>\n",
       "    </tr>\n",
       "    <tr>\n",
       "      <th>3</th>\n",
       "      <td>ham</td>\n",
       "      <td>U dun say so early hor... U c already then say...</td>\n",
       "      <td>11</td>\n",
       "      <td>49</td>\n",
       "      <td>dun say early hor already say</td>\n",
       "      <td>6</td>\n",
       "      <td>29</td>\n",
       "    </tr>\n",
       "    <tr>\n",
       "      <th>4</th>\n",
       "      <td>ham</td>\n",
       "      <td>Nah I don't think he goes to usf, he lives aro...</td>\n",
       "      <td>13</td>\n",
       "      <td>61</td>\n",
       "      <td>nah think goes usf lives around though</td>\n",
       "      <td>7</td>\n",
       "      <td>38</td>\n",
       "    </tr>\n",
       "  </tbody>\n",
       "</table>\n",
       "</div>"
      ],
      "text/plain": [
       "  target                                            message  words_count  \\\n",
       "0    ham  Go until jurong point, crazy.. Available only ...           20   \n",
       "1    ham                      Ok lar... Joking wif u oni...            6   \n",
       "2   spam  Free entry in 2 a wkly comp to win FA Cup fina...           28   \n",
       "3    ham  U dun say so early hor... U c already then say...           11   \n",
       "4    ham  Nah I don't think he goes to usf, he lives aro...           13   \n",
       "\n",
       "   message_len                                      clean_message  \\\n",
       "0          111  go jurong point crazy available bugis n great ...   \n",
       "1           29                              ok lar joking wif oni   \n",
       "2          155  free entry  wkly comp win fa cup final tkts  m...   \n",
       "3           49                      dun say early hor already say   \n",
       "4           61             nah think goes usf lives around though   \n",
       "\n",
       "   clean_message_words_count  clean_message_len  \n",
       "0                         16                 82  \n",
       "1                          5                 21  \n",
       "2                         23                103  \n",
       "3                          6                 29  \n",
       "4                          7                 38  "
      ]
     },
     "execution_count": 16,
     "metadata": {},
     "output_type": "execute_result"
    }
   ],
   "source": [
    "df['clean_message'] = df['message'].apply(clean_text)\n",
    "df['clean_message_words_count'] = df['clean_message'].apply(lambda x:len(x.split(' ')))\n",
    "df['clean_message_len'] = df['clean_message'].apply(len) \n",
    "df.head()"
   ]
  },
  {
   "cell_type": "code",
   "execution_count": null,
   "id": "4f9332a8",
   "metadata": {
    "papermill": {
     "duration": 0.00562,
     "end_time": "2025-01-04T03:18:35.332997",
     "exception": false,
     "start_time": "2025-01-04T03:18:35.327377",
     "status": "completed"
    },
    "tags": []
   },
   "outputs": [],
   "source": []
  }
 ],
 "metadata": {
  "kaggle": {
   "accelerator": "none",
   "dataSources": [
    {
     "datasetId": 483,
     "sourceId": 982,
     "sourceType": "datasetVersion"
    }
   ],
   "dockerImageVersionId": 30822,
   "isGpuEnabled": false,
   "isInternetEnabled": false,
   "language": "python",
   "sourceType": "notebook"
  },
  "kernelspec": {
   "display_name": "Python 3",
   "language": "python",
   "name": "python3"
  },
  "language_info": {
   "codemirror_mode": {
    "name": "ipython",
    "version": 3
   },
   "file_extension": ".py",
   "mimetype": "text/x-python",
   "name": "python",
   "nbconvert_exporter": "python",
   "pygments_lexer": "ipython3",
   "version": "3.10.12"
  },
  "papermill": {
   "default_parameters": {},
   "duration": 7.000307,
   "end_time": "2025-01-04T03:18:36.057909",
   "environment_variables": {},
   "exception": null,
   "input_path": "__notebook__.ipynb",
   "output_path": "__notebook__.ipynb",
   "parameters": {},
   "start_time": "2025-01-04T03:18:29.057602",
   "version": "2.6.0"
  }
 },
 "nbformat": 4,
 "nbformat_minor": 5
}
